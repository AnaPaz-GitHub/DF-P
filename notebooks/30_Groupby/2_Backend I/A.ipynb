{
 "cells": [
  {
   "attachments": {},
   "cell_type": "markdown",
   "metadata": {},
   "source": [
    "# Sketch BackEnd: Data Operations"
   ]
  },
  {
   "attachments": {},
   "cell_type": "markdown",
   "metadata": {},
   "source": [
    "## Load data"
   ]
  },
  {
   "cell_type": "code",
   "execution_count": null,
   "metadata": {},
   "outputs": [
    {
     "data": {
      "text/html": [
       "<div>\n",
       "<style scoped>\n",
       "    .dataframe tbody tr th:only-of-type {\n",
       "        vertical-align: middle;\n",
       "    }\n",
       "\n",
       "    .dataframe tbody tr th {\n",
       "        vertical-align: top;\n",
       "    }\n",
       "\n",
       "    .dataframe thead th {\n",
       "        text-align: right;\n",
       "    }\n",
       "</style>\n",
       "<table border=\"1\" class=\"dataframe\">\n",
       "  <thead>\n",
       "    <tr style=\"text-align: right;\">\n",
       "      <th></th>\n",
       "      <th></th>\n",
       "      <th></th>\n",
       "      <th></th>\n",
       "      <th></th>\n",
       "      <th></th>\n",
       "      <th>Hydraulic</th>\n",
       "      <th>Adjustment P48</th>\n",
       "      <th>Balance Andorra</th>\n",
       "      <th>Balance Morocco</th>\n",
       "      <th>Balance France</th>\n",
       "      <th>Balance Portugal</th>\n",
       "      <th>Other Renewables</th>\n",
       "      <th>Non-Renewable Waste</th>\n",
       "      <th>Cogeneration</th>\n",
       "      <th>Wind</th>\n",
       "      <th>Fuel-Gas</th>\n",
       "      <th>Coal</th>\n",
       "      <th>Balearic Link</th>\n",
       "      <th>Pumping Consumption</th>\n",
       "      <th>Solar Thermal</th>\n",
       "      <th>Solar Photovoltaic</th>\n",
       "      <th>Combined Cycle</th>\n",
       "      <th>Pumping Turbine</th>\n",
       "      <th>Nuclear</th>\n",
       "    </tr>\n",
       "    <tr>\n",
       "      <th>year</th>\n",
       "      <th>month</th>\n",
       "      <th>day</th>\n",
       "      <th>hour</th>\n",
       "      <th>weekday</th>\n",
       "      <th>weekend</th>\n",
       "      <th></th>\n",
       "      <th></th>\n",
       "      <th></th>\n",
       "      <th></th>\n",
       "      <th></th>\n",
       "      <th></th>\n",
       "      <th></th>\n",
       "      <th></th>\n",
       "      <th></th>\n",
       "      <th></th>\n",
       "      <th></th>\n",
       "      <th></th>\n",
       "      <th></th>\n",
       "      <th></th>\n",
       "      <th></th>\n",
       "      <th></th>\n",
       "      <th></th>\n",
       "      <th></th>\n",
       "      <th></th>\n",
       "    </tr>\n",
       "  </thead>\n",
       "  <tbody>\n",
       "    <tr>\n",
       "      <th rowspan=\"5\" valign=\"top\">2015</th>\n",
       "      <th rowspan=\"5\" valign=\"top\">1</th>\n",
       "      <th rowspan=\"5\" valign=\"top\">1</th>\n",
       "      <th>0</th>\n",
       "      <th>3</th>\n",
       "      <th>0</th>\n",
       "      <td>2621.900</td>\n",
       "      <td>1300.0</td>\n",
       "      <td>-36.0</td>\n",
       "      <td>-540.0</td>\n",
       "      <td>-1000.0</td>\n",
       "      <td>291.700</td>\n",
       "      <td>486.4</td>\n",
       "      <td>NaN</td>\n",
       "      <td>1586.9</td>\n",
       "      <td>5517.400</td>\n",
       "      <td>421.6</td>\n",
       "      <td>5077.9</td>\n",
       "      <td>-128.0</td>\n",
       "      <td>-850.000</td>\n",
       "      <td>16.0</td>\n",
       "      <td>NaN</td>\n",
       "      <td>3458.10</td>\n",
       "      <td>NaN</td>\n",
       "      <td>7105.00</td>\n",
       "    </tr>\n",
       "    <tr>\n",
       "      <th>1</th>\n",
       "      <th>3</th>\n",
       "      <th>0</th>\n",
       "      <td>2532.300</td>\n",
       "      <td>1000.0</td>\n",
       "      <td>-35.0</td>\n",
       "      <td>-600.0</td>\n",
       "      <td>-1100.0</td>\n",
       "      <td>-44.100</td>\n",
       "      <td>486.4</td>\n",
       "      <td>NaN</td>\n",
       "      <td>1591.2</td>\n",
       "      <td>5034.400</td>\n",
       "      <td>422.3</td>\n",
       "      <td>5086.3</td>\n",
       "      <td>-102.0</td>\n",
       "      <td>-850.000</td>\n",
       "      <td>16.0</td>\n",
       "      <td>NaN</td>\n",
       "      <td>3789.50</td>\n",
       "      <td>NaN</td>\n",
       "      <td>7104.00</td>\n",
       "    </tr>\n",
       "    <tr>\n",
       "      <th>2</th>\n",
       "      <th>3</th>\n",
       "      <th>0</th>\n",
       "      <td>2421.800</td>\n",
       "      <td>1000.0</td>\n",
       "      <td>-33.0</td>\n",
       "      <td>-300.0</td>\n",
       "      <td>-994.0</td>\n",
       "      <td>-680.700</td>\n",
       "      <td>486.0</td>\n",
       "      <td>NaN</td>\n",
       "      <td>1584.6</td>\n",
       "      <td>4674.800</td>\n",
       "      <td>422.5</td>\n",
       "      <td>4827.6</td>\n",
       "      <td>-82.0</td>\n",
       "      <td>-1130.000</td>\n",
       "      <td>7.0</td>\n",
       "      <td>NaN</td>\n",
       "      <td>3458.90</td>\n",
       "      <td>NaN</td>\n",
       "      <td>7104.00</td>\n",
       "    </tr>\n",
       "    <tr>\n",
       "      <th>3</th>\n",
       "      <th>3</th>\n",
       "      <th>0</th>\n",
       "      <td>1742.500</td>\n",
       "      <td>1000.0</td>\n",
       "      <td>-30.0</td>\n",
       "      <td>-140.0</td>\n",
       "      <td>-44.1</td>\n",
       "      <td>-975.200</td>\n",
       "      <td>486.1</td>\n",
       "      <td>NaN</td>\n",
       "      <td>1585.3</td>\n",
       "      <td>4257.600</td>\n",
       "      <td>421.8</td>\n",
       "      <td>4382.7</td>\n",
       "      <td>-62.0</td>\n",
       "      <td>-1508.000</td>\n",
       "      <td>NaN</td>\n",
       "      <td>NaN</td>\n",
       "      <td>3066.00</td>\n",
       "      <td>NaN</td>\n",
       "      <td>7104.00</td>\n",
       "    </tr>\n",
       "    <tr>\n",
       "      <th>4</th>\n",
       "      <th>3</th>\n",
       "      <th>0</th>\n",
       "      <td>1612.100</td>\n",
       "      <td>1000.0</td>\n",
       "      <td>-27.0</td>\n",
       "      <td>-100.0</td>\n",
       "      <td>259.5</td>\n",
       "      <td>-1010.100</td>\n",
       "      <td>469.8</td>\n",
       "      <td>NaN</td>\n",
       "      <td>1534.5</td>\n",
       "      <td>4130.300</td>\n",
       "      <td>421.2</td>\n",
       "      <td>3925.6</td>\n",
       "      <td>-62.0</td>\n",
       "      <td>-1686.000</td>\n",
       "      <td>7.0</td>\n",
       "      <td>NaN</td>\n",
       "      <td>2722.40</td>\n",
       "      <td>NaN</td>\n",
       "      <td>7104.00</td>\n",
       "    </tr>\n",
       "    <tr>\n",
       "      <th>...</th>\n",
       "      <th>...</th>\n",
       "      <th>...</th>\n",
       "      <th>...</th>\n",
       "      <th>...</th>\n",
       "      <th>...</th>\n",
       "      <td>...</td>\n",
       "      <td>...</td>\n",
       "      <td>...</td>\n",
       "      <td>...</td>\n",
       "      <td>...</td>\n",
       "      <td>...</td>\n",
       "      <td>...</td>\n",
       "      <td>...</td>\n",
       "      <td>...</td>\n",
       "      <td>...</td>\n",
       "      <td>...</td>\n",
       "      <td>...</td>\n",
       "      <td>...</td>\n",
       "      <td>...</td>\n",
       "      <td>...</td>\n",
       "      <td>...</td>\n",
       "      <td>...</td>\n",
       "      <td>...</td>\n",
       "      <td>...</td>\n",
       "    </tr>\n",
       "    <tr>\n",
       "      <th rowspan=\"5\" valign=\"top\">2022</th>\n",
       "      <th rowspan=\"5\" valign=\"top\">12</th>\n",
       "      <th rowspan=\"5\" valign=\"top\">31</th>\n",
       "      <th>19</th>\n",
       "      <th>5</th>\n",
       "      <th>1</th>\n",
       "      <td>5182.725</td>\n",
       "      <td>-375.0</td>\n",
       "      <td>-77.0</td>\n",
       "      <td>-750.0</td>\n",
       "      <td>-1650.3</td>\n",
       "      <td>3465.000</td>\n",
       "      <td>268.1</td>\n",
       "      <td>264.3</td>\n",
       "      <td>773.7</td>\n",
       "      <td>10060.700</td>\n",
       "      <td>NaN</td>\n",
       "      <td>277.0</td>\n",
       "      <td>-266.0</td>\n",
       "      <td>-331.000</td>\n",
       "      <td>24.2</td>\n",
       "      <td>5.7</td>\n",
       "      <td>1151.00</td>\n",
       "      <td>2240.8000</td>\n",
       "      <td>6454.00</td>\n",
       "    </tr>\n",
       "    <tr>\n",
       "      <th>20</th>\n",
       "      <th>5</th>\n",
       "      <th>1</th>\n",
       "      <td>4771.475</td>\n",
       "      <td>325.0</td>\n",
       "      <td>-77.0</td>\n",
       "      <td>-750.0</td>\n",
       "      <td>-1525.4</td>\n",
       "      <td>3187.858</td>\n",
       "      <td>266.9</td>\n",
       "      <td>263.7</td>\n",
       "      <td>774.1</td>\n",
       "      <td>9969.200</td>\n",
       "      <td>NaN</td>\n",
       "      <td>277.0</td>\n",
       "      <td>-235.0</td>\n",
       "      <td>-904.150</td>\n",
       "      <td>NaN</td>\n",
       "      <td>3.6</td>\n",
       "      <td>1332.00</td>\n",
       "      <td>1888.5875</td>\n",
       "      <td>6456.75</td>\n",
       "    </tr>\n",
       "    <tr>\n",
       "      <th>21</th>\n",
       "      <th>5</th>\n",
       "      <th>1</th>\n",
       "      <td>4387.200</td>\n",
       "      <td>225.0</td>\n",
       "      <td>-73.0</td>\n",
       "      <td>-750.0</td>\n",
       "      <td>-290.0</td>\n",
       "      <td>2790.500</td>\n",
       "      <td>263.3</td>\n",
       "      <td>264.2</td>\n",
       "      <td>774.4</td>\n",
       "      <td>9306.725</td>\n",
       "      <td>NaN</td>\n",
       "      <td>283.0</td>\n",
       "      <td>-204.0</td>\n",
       "      <td>-1517.400</td>\n",
       "      <td>NaN</td>\n",
       "      <td>2.2</td>\n",
       "      <td>1563.10</td>\n",
       "      <td>1163.3750</td>\n",
       "      <td>6452.30</td>\n",
       "    </tr>\n",
       "    <tr>\n",
       "      <th>22</th>\n",
       "      <th>5</th>\n",
       "      <th>1</th>\n",
       "      <td>4055.500</td>\n",
       "      <td>-200.0</td>\n",
       "      <td>-67.0</td>\n",
       "      <td>-740.0</td>\n",
       "      <td>-1715.8</td>\n",
       "      <td>3355.000</td>\n",
       "      <td>259.2</td>\n",
       "      <td>264.7</td>\n",
       "      <td>760.6</td>\n",
       "      <td>8871.225</td>\n",
       "      <td>NaN</td>\n",
       "      <td>260.0</td>\n",
       "      <td>-153.0</td>\n",
       "      <td>-1846.700</td>\n",
       "      <td>NaN</td>\n",
       "      <td>1.7</td>\n",
       "      <td>1725.00</td>\n",
       "      <td>689.6000</td>\n",
       "      <td>6457.75</td>\n",
       "    </tr>\n",
       "    <tr>\n",
       "      <th>23</th>\n",
       "      <th>5</th>\n",
       "      <th>1</th>\n",
       "      <td>3963.950</td>\n",
       "      <td>-200.0</td>\n",
       "      <td>-62.0</td>\n",
       "      <td>-750.0</td>\n",
       "      <td>-258.0</td>\n",
       "      <td>2755.000</td>\n",
       "      <td>257.2</td>\n",
       "      <td>264.9</td>\n",
       "      <td>761.6</td>\n",
       "      <td>7506.300</td>\n",
       "      <td>NaN</td>\n",
       "      <td>260.0</td>\n",
       "      <td>-128.0</td>\n",
       "      <td>-2632.025</td>\n",
       "      <td>NaN</td>\n",
       "      <td>1.6</td>\n",
       "      <td>2104.55</td>\n",
       "      <td>240.9125</td>\n",
       "      <td>6415.45</td>\n",
       "    </tr>\n",
       "  </tbody>\n",
       "</table>\n",
       "<p>70128 rows × 19 columns</p>\n",
       "</div>"
      ],
      "text/plain": [
       "                                     Hydraulic  Adjustment P48  \\\n",
       "year month day hour weekday weekend                              \n",
       "2015 1     1   0    3       0         2621.900          1300.0   \n",
       "               1    3       0         2532.300          1000.0   \n",
       "               2    3       0         2421.800          1000.0   \n",
       "               3    3       0         1742.500          1000.0   \n",
       "               4    3       0         1612.100          1000.0   \n",
       "...                                        ...             ...   \n",
       "2022 12    31  19   5       1         5182.725          -375.0   \n",
       "               20   5       1         4771.475           325.0   \n",
       "               21   5       1         4387.200           225.0   \n",
       "               22   5       1         4055.500          -200.0   \n",
       "               23   5       1         3963.950          -200.0   \n",
       "\n",
       "                                     Balance Andorra  Balance Morocco  \\\n",
       "year month day hour weekday weekend                                     \n",
       "2015 1     1   0    3       0                  -36.0           -540.0   \n",
       "               1    3       0                  -35.0           -600.0   \n",
       "               2    3       0                  -33.0           -300.0   \n",
       "               3    3       0                  -30.0           -140.0   \n",
       "               4    3       0                  -27.0           -100.0   \n",
       "...                                              ...              ...   \n",
       "2022 12    31  19   5       1                  -77.0           -750.0   \n",
       "               20   5       1                  -77.0           -750.0   \n",
       "               21   5       1                  -73.0           -750.0   \n",
       "               22   5       1                  -67.0           -740.0   \n",
       "               23   5       1                  -62.0           -750.0   \n",
       "\n",
       "                                     Balance France  Balance Portugal  \\\n",
       "year month day hour weekday weekend                                     \n",
       "2015 1     1   0    3       0               -1000.0           291.700   \n",
       "               1    3       0               -1100.0           -44.100   \n",
       "               2    3       0                -994.0          -680.700   \n",
       "               3    3       0                 -44.1          -975.200   \n",
       "               4    3       0                 259.5         -1010.100   \n",
       "...                                             ...               ...   \n",
       "2022 12    31  19   5       1               -1650.3          3465.000   \n",
       "               20   5       1               -1525.4          3187.858   \n",
       "               21   5       1                -290.0          2790.500   \n",
       "               22   5       1               -1715.8          3355.000   \n",
       "               23   5       1                -258.0          2755.000   \n",
       "\n",
       "                                     Other Renewables  Non-Renewable Waste  \\\n",
       "year month day hour weekday weekend                                          \n",
       "2015 1     1   0    3       0                   486.4                  NaN   \n",
       "               1    3       0                   486.4                  NaN   \n",
       "               2    3       0                   486.0                  NaN   \n",
       "               3    3       0                   486.1                  NaN   \n",
       "               4    3       0                   469.8                  NaN   \n",
       "...                                               ...                  ...   \n",
       "2022 12    31  19   5       1                   268.1                264.3   \n",
       "               20   5       1                   266.9                263.7   \n",
       "               21   5       1                   263.3                264.2   \n",
       "               22   5       1                   259.2                264.7   \n",
       "               23   5       1                   257.2                264.9   \n",
       "\n",
       "                                     Cogeneration       Wind  Fuel-Gas  \\\n",
       "year month day hour weekday weekend                                      \n",
       "2015 1     1   0    3       0              1586.9   5517.400     421.6   \n",
       "               1    3       0              1591.2   5034.400     422.3   \n",
       "               2    3       0              1584.6   4674.800     422.5   \n",
       "               3    3       0              1585.3   4257.600     421.8   \n",
       "               4    3       0              1534.5   4130.300     421.2   \n",
       "...                                           ...        ...       ...   \n",
       "2022 12    31  19   5       1               773.7  10060.700       NaN   \n",
       "               20   5       1               774.1   9969.200       NaN   \n",
       "               21   5       1               774.4   9306.725       NaN   \n",
       "               22   5       1               760.6   8871.225       NaN   \n",
       "               23   5       1               761.6   7506.300       NaN   \n",
       "\n",
       "                                       Coal  Balearic Link  \\\n",
       "year month day hour weekday weekend                          \n",
       "2015 1     1   0    3       0        5077.9         -128.0   \n",
       "               1    3       0        5086.3         -102.0   \n",
       "               2    3       0        4827.6          -82.0   \n",
       "               3    3       0        4382.7          -62.0   \n",
       "               4    3       0        3925.6          -62.0   \n",
       "...                                     ...            ...   \n",
       "2022 12    31  19   5       1         277.0         -266.0   \n",
       "               20   5       1         277.0         -235.0   \n",
       "               21   5       1         283.0         -204.0   \n",
       "               22   5       1         260.0         -153.0   \n",
       "               23   5       1         260.0         -128.0   \n",
       "\n",
       "                                     Pumping Consumption  Solar Thermal  \\\n",
       "year month day hour weekday weekend                                       \n",
       "2015 1     1   0    3       0                   -850.000           16.0   \n",
       "               1    3       0                   -850.000           16.0   \n",
       "               2    3       0                  -1130.000            7.0   \n",
       "               3    3       0                  -1508.000            NaN   \n",
       "               4    3       0                  -1686.000            7.0   \n",
       "...                                                  ...            ...   \n",
       "2022 12    31  19   5       1                   -331.000           24.2   \n",
       "               20   5       1                   -904.150            NaN   \n",
       "               21   5       1                  -1517.400            NaN   \n",
       "               22   5       1                  -1846.700            NaN   \n",
       "               23   5       1                  -2632.025            NaN   \n",
       "\n",
       "                                     Solar Photovoltaic  Combined Cycle  \\\n",
       "year month day hour weekday weekend                                       \n",
       "2015 1     1   0    3       0                       NaN         3458.10   \n",
       "               1    3       0                       NaN         3789.50   \n",
       "               2    3       0                       NaN         3458.90   \n",
       "               3    3       0                       NaN         3066.00   \n",
       "               4    3       0                       NaN         2722.40   \n",
       "...                                                 ...             ...   \n",
       "2022 12    31  19   5       1                       5.7         1151.00   \n",
       "               20   5       1                       3.6         1332.00   \n",
       "               21   5       1                       2.2         1563.10   \n",
       "               22   5       1                       1.7         1725.00   \n",
       "               23   5       1                       1.6         2104.55   \n",
       "\n",
       "                                     Pumping Turbine  Nuclear  \n",
       "year month day hour weekday weekend                            \n",
       "2015 1     1   0    3       0                    NaN  7105.00  \n",
       "               1    3       0                    NaN  7104.00  \n",
       "               2    3       0                    NaN  7104.00  \n",
       "               3    3       0                    NaN  7104.00  \n",
       "               4    3       0                    NaN  7104.00  \n",
       "...                                              ...      ...  \n",
       "2022 12    31  19   5       1              2240.8000  6454.00  \n",
       "               20   5       1              1888.5875  6456.75  \n",
       "               21   5       1              1163.3750  6452.30  \n",
       "               22   5       1               689.6000  6457.75  \n",
       "               23   5       1               240.9125  6415.45  \n",
       "\n",
       "[70128 rows x 19 columns]"
      ]
     },
     "execution_count": null,
     "metadata": {},
     "output_type": "execute_result"
    }
   ],
   "source": []
  },
  {
   "cell_type": "markdown",
   "metadata": {},
   "source": [
    "## Filter"
   ]
  },
  {
   "cell_type": "code",
   "execution_count": null,
   "metadata": {},
   "outputs": [
    {
     "data": {
      "text/html": [
       "<div>\n",
       "<style scoped>\n",
       "    .dataframe tbody tr th:only-of-type {\n",
       "        vertical-align: middle;\n",
       "    }\n",
       "\n",
       "    .dataframe tbody tr th {\n",
       "        vertical-align: top;\n",
       "    }\n",
       "\n",
       "    .dataframe thead th {\n",
       "        text-align: right;\n",
       "    }\n",
       "</style>\n",
       "<table border=\"1\" class=\"dataframe\">\n",
       "  <thead>\n",
       "    <tr style=\"text-align: right;\">\n",
       "      <th></th>\n",
       "      <th></th>\n",
       "      <th></th>\n",
       "      <th></th>\n",
       "      <th></th>\n",
       "      <th>Solar Photovoltaic</th>\n",
       "      <th>Combined Cycle</th>\n",
       "      <th>Wind</th>\n",
       "    </tr>\n",
       "    <tr>\n",
       "      <th>month</th>\n",
       "      <th>day</th>\n",
       "      <th>hour</th>\n",
       "      <th>weekday</th>\n",
       "      <th>weekend</th>\n",
       "      <th></th>\n",
       "      <th></th>\n",
       "      <th></th>\n",
       "    </tr>\n",
       "  </thead>\n",
       "  <tbody>\n",
       "    <tr>\n",
       "      <th rowspan=\"5\" valign=\"top\">1</th>\n",
       "      <th rowspan=\"5\" valign=\"top\">1</th>\n",
       "      <th>0</th>\n",
       "      <th>5</th>\n",
       "      <th>1</th>\n",
       "      <td>7.1</td>\n",
       "      <td>1885.40</td>\n",
       "      <td>6380.800</td>\n",
       "    </tr>\n",
       "    <tr>\n",
       "      <th>1</th>\n",
       "      <th>5</th>\n",
       "      <th>1</th>\n",
       "      <td>19.1</td>\n",
       "      <td>1948.80</td>\n",
       "      <td>6563.300</td>\n",
       "    </tr>\n",
       "    <tr>\n",
       "      <th>2</th>\n",
       "      <th>5</th>\n",
       "      <th>1</th>\n",
       "      <td>0.1</td>\n",
       "      <td>1937.90</td>\n",
       "      <td>6479.100</td>\n",
       "    </tr>\n",
       "    <tr>\n",
       "      <th>3</th>\n",
       "      <th>5</th>\n",
       "      <th>1</th>\n",
       "      <td>0.1</td>\n",
       "      <td>1785.80</td>\n",
       "      <td>6350.900</td>\n",
       "    </tr>\n",
       "    <tr>\n",
       "      <th>4</th>\n",
       "      <th>5</th>\n",
       "      <th>1</th>\n",
       "      <td>0.1</td>\n",
       "      <td>1785.60</td>\n",
       "      <td>6071.000</td>\n",
       "    </tr>\n",
       "    <tr>\n",
       "      <th>...</th>\n",
       "      <th>...</th>\n",
       "      <th>...</th>\n",
       "      <th>...</th>\n",
       "      <th>...</th>\n",
       "      <td>...</td>\n",
       "      <td>...</td>\n",
       "      <td>...</td>\n",
       "    </tr>\n",
       "    <tr>\n",
       "      <th rowspan=\"5\" valign=\"top\">12</th>\n",
       "      <th rowspan=\"5\" valign=\"top\">31</th>\n",
       "      <th>19</th>\n",
       "      <th>5</th>\n",
       "      <th>1</th>\n",
       "      <td>5.7</td>\n",
       "      <td>1151.00</td>\n",
       "      <td>10060.700</td>\n",
       "    </tr>\n",
       "    <tr>\n",
       "      <th>20</th>\n",
       "      <th>5</th>\n",
       "      <th>1</th>\n",
       "      <td>3.6</td>\n",
       "      <td>1332.00</td>\n",
       "      <td>9969.200</td>\n",
       "    </tr>\n",
       "    <tr>\n",
       "      <th>21</th>\n",
       "      <th>5</th>\n",
       "      <th>1</th>\n",
       "      <td>2.2</td>\n",
       "      <td>1563.10</td>\n",
       "      <td>9306.725</td>\n",
       "    </tr>\n",
       "    <tr>\n",
       "      <th>22</th>\n",
       "      <th>5</th>\n",
       "      <th>1</th>\n",
       "      <td>1.7</td>\n",
       "      <td>1725.00</td>\n",
       "      <td>8871.225</td>\n",
       "    </tr>\n",
       "    <tr>\n",
       "      <th>23</th>\n",
       "      <th>5</th>\n",
       "      <th>1</th>\n",
       "      <td>1.6</td>\n",
       "      <td>2104.55</td>\n",
       "      <td>7506.300</td>\n",
       "    </tr>\n",
       "  </tbody>\n",
       "</table>\n",
       "<p>8760 rows × 3 columns</p>\n",
       "</div>"
      ],
      "text/plain": [
       "                                Solar Photovoltaic  Combined Cycle       Wind\n",
       "month day hour weekday weekend                                               \n",
       "1     1   0    5       1                       7.1         1885.40   6380.800\n",
       "          1    5       1                      19.1         1948.80   6563.300\n",
       "          2    5       1                       0.1         1937.90   6479.100\n",
       "          3    5       1                       0.1         1785.80   6350.900\n",
       "          4    5       1                       0.1         1785.60   6071.000\n",
       "...                                            ...             ...        ...\n",
       "12    31  19   5       1                       5.7         1151.00  10060.700\n",
       "          20   5       1                       3.6         1332.00   9969.200\n",
       "          21   5       1                       2.2         1563.10   9306.725\n",
       "          22   5       1                       1.7         1725.00   8871.225\n",
       "          23   5       1                       1.6         2104.55   7506.300\n",
       "\n",
       "[8760 rows x 3 columns]"
      ]
     },
     "execution_count": null,
     "metadata": {},
     "output_type": "execute_result"
    }
   ],
   "source": []
  },
  {
   "cell_type": "markdown",
   "metadata": {},
   "source": [
    "## Data aggregation"
   ]
  },
  {
   "cell_type": "code",
   "execution_count": null,
   "metadata": {},
   "outputs": [
    {
     "data": {
      "text/html": [
       "<div>\n",
       "<style scoped>\n",
       "    .dataframe tbody tr th:only-of-type {\n",
       "        vertical-align: middle;\n",
       "    }\n",
       "\n",
       "    .dataframe tbody tr th {\n",
       "        vertical-align: top;\n",
       "    }\n",
       "\n",
       "    .dataframe thead th {\n",
       "        text-align: right;\n",
       "    }\n",
       "</style>\n",
       "<table border=\"1\" class=\"dataframe\">\n",
       "  <thead>\n",
       "    <tr style=\"text-align: right;\">\n",
       "      <th></th>\n",
       "      <th>Solar Photovoltaic</th>\n",
       "      <th>Combined Cycle</th>\n",
       "      <th>Wind</th>\n",
       "    </tr>\n",
       "    <tr>\n",
       "      <th>hour</th>\n",
       "      <th></th>\n",
       "      <th></th>\n",
       "      <th></th>\n",
       "    </tr>\n",
       "  </thead>\n",
       "  <tbody>\n",
       "    <tr>\n",
       "      <th>0</th>\n",
       "      <td>2.622802</td>\n",
       "      <td>6963.613230</td>\n",
       "      <td>7520.542370</td>\n",
       "    </tr>\n",
       "    <tr>\n",
       "      <th>1</th>\n",
       "      <td>1.842308</td>\n",
       "      <td>6504.967233</td>\n",
       "      <td>7365.304910</td>\n",
       "    </tr>\n",
       "    <tr>\n",
       "      <th>2</th>\n",
       "      <td>2.111846</td>\n",
       "      <td>6278.372532</td>\n",
       "      <td>7167.533781</td>\n",
       "    </tr>\n",
       "    <tr>\n",
       "      <th>3</th>\n",
       "      <td>2.054121</td>\n",
       "      <td>6150.918499</td>\n",
       "      <td>6929.765192</td>\n",
       "    </tr>\n",
       "    <tr>\n",
       "      <th>4</th>\n",
       "      <td>1.215110</td>\n",
       "      <td>6156.554085</td>\n",
       "      <td>6732.803463</td>\n",
       "    </tr>\n",
       "    <tr>\n",
       "      <th>5</th>\n",
       "      <td>1.629863</td>\n",
       "      <td>6393.992740</td>\n",
       "      <td>6603.284096</td>\n",
       "    </tr>\n",
       "    <tr>\n",
       "      <th>6</th>\n",
       "      <td>4.740616</td>\n",
       "      <td>7039.307625</td>\n",
       "      <td>6491.399463</td>\n",
       "    </tr>\n",
       "    <tr>\n",
       "      <th>7</th>\n",
       "      <td>235.004696</td>\n",
       "      <td>7592.385003</td>\n",
       "      <td>6384.250866</td>\n",
       "    </tr>\n",
       "    <tr>\n",
       "      <th>8</th>\n",
       "      <td>1590.948951</td>\n",
       "      <td>7629.764216</td>\n",
       "      <td>6193.813277</td>\n",
       "    </tr>\n",
       "    <tr>\n",
       "      <th>9</th>\n",
       "      <td>4340.580107</td>\n",
       "      <td>7350.913674</td>\n",
       "      <td>5986.623041</td>\n",
       "    </tr>\n",
       "    <tr>\n",
       "      <th>10</th>\n",
       "      <td>6776.362652</td>\n",
       "      <td>6963.980677</td>\n",
       "      <td>5881.597285</td>\n",
       "    </tr>\n",
       "    <tr>\n",
       "      <th>11</th>\n",
       "      <td>8080.941811</td>\n",
       "      <td>6645.567674</td>\n",
       "      <td>5925.021633</td>\n",
       "    </tr>\n",
       "    <tr>\n",
       "      <th>12</th>\n",
       "      <td>8690.022047</td>\n",
       "      <td>6529.432170</td>\n",
       "      <td>6102.053395</td>\n",
       "    </tr>\n",
       "    <tr>\n",
       "      <th>13</th>\n",
       "      <td>8850.174389</td>\n",
       "      <td>6457.921885</td>\n",
       "      <td>6317.114959</td>\n",
       "    </tr>\n",
       "    <tr>\n",
       "      <th>14</th>\n",
       "      <td>8741.701211</td>\n",
       "      <td>6390.021553</td>\n",
       "      <td>6566.951668</td>\n",
       "    </tr>\n",
       "    <tr>\n",
       "      <th>15</th>\n",
       "      <td>8271.393808</td>\n",
       "      <td>6355.383564</td>\n",
       "      <td>6744.854811</td>\n",
       "    </tr>\n",
       "    <tr>\n",
       "      <th>16</th>\n",
       "      <td>7217.150778</td>\n",
       "      <td>6564.988877</td>\n",
       "      <td>6908.262216</td>\n",
       "    </tr>\n",
       "    <tr>\n",
       "      <th>17</th>\n",
       "      <td>5581.450258</td>\n",
       "      <td>6988.644427</td>\n",
       "      <td>7087.536496</td>\n",
       "    </tr>\n",
       "    <tr>\n",
       "      <th>18</th>\n",
       "      <td>3850.509466</td>\n",
       "      <td>7493.222732</td>\n",
       "      <td>7285.780556</td>\n",
       "    </tr>\n",
       "    <tr>\n",
       "      <th>19</th>\n",
       "      <td>2139.975153</td>\n",
       "      <td>8058.497690</td>\n",
       "      <td>7477.462047</td>\n",
       "    </tr>\n",
       "    <tr>\n",
       "      <th>20</th>\n",
       "      <td>657.910455</td>\n",
       "      <td>8479.731060</td>\n",
       "      <td>7644.243981</td>\n",
       "    </tr>\n",
       "    <tr>\n",
       "      <th>21</th>\n",
       "      <td>60.850156</td>\n",
       "      <td>8583.457060</td>\n",
       "      <td>7698.102151</td>\n",
       "    </tr>\n",
       "    <tr>\n",
       "      <th>22</th>\n",
       "      <td>4.746027</td>\n",
       "      <td>8303.914759</td>\n",
       "      <td>7676.513244</td>\n",
       "    </tr>\n",
       "    <tr>\n",
       "      <th>23</th>\n",
       "      <td>2.750685</td>\n",
       "      <td>7819.593479</td>\n",
       "      <td>7598.654866</td>\n",
       "    </tr>\n",
       "  </tbody>\n",
       "</table>\n",
       "</div>"
      ],
      "text/plain": [
       "      Solar Photovoltaic  Combined Cycle         Wind\n",
       "hour                                                 \n",
       "0               2.622802     6963.613230  7520.542370\n",
       "1               1.842308     6504.967233  7365.304910\n",
       "2               2.111846     6278.372532  7167.533781\n",
       "3               2.054121     6150.918499  6929.765192\n",
       "4               1.215110     6156.554085  6732.803463\n",
       "5               1.629863     6393.992740  6603.284096\n",
       "6               4.740616     7039.307625  6491.399463\n",
       "7             235.004696     7592.385003  6384.250866\n",
       "8            1590.948951     7629.764216  6193.813277\n",
       "9            4340.580107     7350.913674  5986.623041\n",
       "10           6776.362652     6963.980677  5881.597285\n",
       "11           8080.941811     6645.567674  5925.021633\n",
       "12           8690.022047     6529.432170  6102.053395\n",
       "13           8850.174389     6457.921885  6317.114959\n",
       "14           8741.701211     6390.021553  6566.951668\n",
       "15           8271.393808     6355.383564  6744.854811\n",
       "16           7217.150778     6564.988877  6908.262216\n",
       "17           5581.450258     6988.644427  7087.536496\n",
       "18           3850.509466     7493.222732  7285.780556\n",
       "19           2139.975153     8058.497690  7477.462047\n",
       "20            657.910455     8479.731060  7644.243981\n",
       "21             60.850156     8583.457060  7698.102151\n",
       "22              4.746027     8303.914759  7676.513244\n",
       "23              2.750685     7819.593479  7598.654866"
      ]
     },
     "execution_count": null,
     "metadata": {},
     "output_type": "execute_result"
    }
   ],
   "source": []
  },
  {
   "cell_type": "markdown",
   "metadata": {},
   "source": [
    "## Transform data to long format"
   ]
  },
  {
   "cell_type": "code",
   "execution_count": null,
   "metadata": {},
   "outputs": [
    {
     "data": {
      "text/html": [
       "<div>\n",
       "<style scoped>\n",
       "    .dataframe tbody tr th:only-of-type {\n",
       "        vertical-align: middle;\n",
       "    }\n",
       "\n",
       "    .dataframe tbody tr th {\n",
       "        vertical-align: top;\n",
       "    }\n",
       "\n",
       "    .dataframe thead th {\n",
       "        text-align: right;\n",
       "    }\n",
       "</style>\n",
       "<table border=\"1\" class=\"dataframe\">\n",
       "  <thead>\n",
       "    <tr style=\"text-align: right;\">\n",
       "      <th></th>\n",
       "      <th>hour</th>\n",
       "      <th>source</th>\n",
       "      <th>generation</th>\n",
       "    </tr>\n",
       "  </thead>\n",
       "  <tbody>\n",
       "    <tr>\n",
       "      <th>0</th>\n",
       "      <td>0</td>\n",
       "      <td>Solar Photovoltaic</td>\n",
       "      <td>2.622802</td>\n",
       "    </tr>\n",
       "    <tr>\n",
       "      <th>1</th>\n",
       "      <td>1</td>\n",
       "      <td>Solar Photovoltaic</td>\n",
       "      <td>1.842308</td>\n",
       "    </tr>\n",
       "    <tr>\n",
       "      <th>2</th>\n",
       "      <td>2</td>\n",
       "      <td>Solar Photovoltaic</td>\n",
       "      <td>2.111846</td>\n",
       "    </tr>\n",
       "    <tr>\n",
       "      <th>3</th>\n",
       "      <td>3</td>\n",
       "      <td>Solar Photovoltaic</td>\n",
       "      <td>2.054121</td>\n",
       "    </tr>\n",
       "    <tr>\n",
       "      <th>4</th>\n",
       "      <td>4</td>\n",
       "      <td>Solar Photovoltaic</td>\n",
       "      <td>1.215110</td>\n",
       "    </tr>\n",
       "    <tr>\n",
       "      <th>...</th>\n",
       "      <td>...</td>\n",
       "      <td>...</td>\n",
       "      <td>...</td>\n",
       "    </tr>\n",
       "    <tr>\n",
       "      <th>67</th>\n",
       "      <td>19</td>\n",
       "      <td>Wind</td>\n",
       "      <td>7477.462047</td>\n",
       "    </tr>\n",
       "    <tr>\n",
       "      <th>68</th>\n",
       "      <td>20</td>\n",
       "      <td>Wind</td>\n",
       "      <td>7644.243981</td>\n",
       "    </tr>\n",
       "    <tr>\n",
       "      <th>69</th>\n",
       "      <td>21</td>\n",
       "      <td>Wind</td>\n",
       "      <td>7698.102151</td>\n",
       "    </tr>\n",
       "    <tr>\n",
       "      <th>70</th>\n",
       "      <td>22</td>\n",
       "      <td>Wind</td>\n",
       "      <td>7676.513244</td>\n",
       "    </tr>\n",
       "    <tr>\n",
       "      <th>71</th>\n",
       "      <td>23</td>\n",
       "      <td>Wind</td>\n",
       "      <td>7598.654866</td>\n",
       "    </tr>\n",
       "  </tbody>\n",
       "</table>\n",
       "<p>72 rows × 3 columns</p>\n",
       "</div>"
      ],
      "text/plain": [
       "    hour              source   generation\n",
       "0      0  Solar Photovoltaic     2.622802\n",
       "1      1  Solar Photovoltaic     1.842308\n",
       "2      2  Solar Photovoltaic     2.111846\n",
       "3      3  Solar Photovoltaic     2.054121\n",
       "4      4  Solar Photovoltaic     1.215110\n",
       "..   ...                 ...          ...\n",
       "67    19                Wind  7477.462047\n",
       "68    20                Wind  7644.243981\n",
       "69    21                Wind  7698.102151\n",
       "70    22                Wind  7676.513244\n",
       "71    23                Wind  7598.654866\n",
       "\n",
       "[72 rows x 3 columns]"
      ]
     },
     "execution_count": null,
     "metadata": {},
     "output_type": "execute_result"
    }
   ],
   "source": []
  },
  {
   "cell_type": "markdown",
   "metadata": {},
   "source": [
    "## Data visualization"
   ]
  },
  {
   "cell_type": "code",
   "execution_count": null,
   "metadata": {},
   "outputs": [
    {
     "data": {
      "application/vnd.plotly.v1+json": {
       "config": {
        "plotlyServerURL": "https://plot.ly"
       },
       "data": [
        {
         "alignmentgroup": "True",
         "hovertemplate": "source=Solar Photovoltaic<br>hour=%{x}<br>generation=%{y}<extra></extra>",
         "legendgroup": "Solar Photovoltaic",
         "marker": {
          "color": "#636efa",
          "pattern": {
           "shape": ""
          }
         },
         "name": "Solar Photovoltaic",
         "offsetgroup": "Solar Photovoltaic",
         "orientation": "v",
         "showlegend": true,
         "textposition": "auto",
         "type": "bar",
         "x": [
          0,
          1,
          2,
          3,
          4,
          5,
          6,
          7,
          8,
          9,
          10,
          11,
          12,
          13,
          14,
          15,
          16,
          17,
          18,
          19,
          20,
          21,
          22,
          23
         ],
         "xaxis": "x",
         "y": [
          2.622802197802198,
          1.8423076923076924,
          2.1118457300275484,
          2.054120879120879,
          1.2151098901098902,
          1.62986301369863,
          4.740616438356165,
          235.00469589041094,
          1590.9489506849313,
          4340.580106849316,
          6776.362652054794,
          8080.941810958904,
          8690.022046575343,
          8850.174389041094,
          8741.701210958903,
          8271.393808219178,
          7217.150778082192,
          5581.450257534247,
          3850.509465753425,
          2139.9751534246575,
          657.9104547945205,
          60.85015616438356,
          4.746027397260274,
          2.750684931506849
         ],
         "yaxis": "y"
        },
        {
         "alignmentgroup": "True",
         "hovertemplate": "source=Combined Cycle<br>hour=%{x}<br>generation=%{y}<extra></extra>",
         "legendgroup": "Combined Cycle",
         "marker": {
          "color": "#EF553B",
          "pattern": {
           "shape": ""
          }
         },
         "name": "Combined Cycle",
         "offsetgroup": "Combined Cycle",
         "orientation": "v",
         "showlegend": true,
         "textposition": "auto",
         "type": "bar",
         "x": [
          0,
          1,
          2,
          3,
          4,
          5,
          6,
          7,
          8,
          9,
          10,
          11,
          12,
          13,
          14,
          15,
          16,
          17,
          18,
          19,
          20,
          21,
          22,
          23
         ],
         "xaxis": "x2",
         "y": [
          6963.613230136986,
          6504.967232876713,
          6278.37253150685,
          6150.918498630137,
          6156.554084931507,
          6393.992739726028,
          7039.307624657534,
          7592.385002739727,
          7629.764216438356,
          7350.913673972603,
          6963.980676712329,
          6645.567673972602,
          6529.432169863014,
          6457.921884931507,
          6390.021553424658,
          6355.383564383562,
          6564.988876712328,
          6988.64442739726,
          7493.2227315068485,
          8058.497690410959,
          8479.731060273973,
          8583.457060273973,
          8303.91475890411,
          7819.593479452055
         ],
         "yaxis": "y2"
        },
        {
         "alignmentgroup": "True",
         "hovertemplate": "source=Wind<br>hour=%{x}<br>generation=%{y}<extra></extra>",
         "legendgroup": "Wind",
         "marker": {
          "color": "#00cc96",
          "pattern": {
           "shape": ""
          }
         },
         "name": "Wind",
         "offsetgroup": "Wind",
         "orientation": "v",
         "showlegend": true,
         "textposition": "auto",
         "type": "bar",
         "x": [
          0,
          1,
          2,
          3,
          4,
          5,
          6,
          7,
          8,
          9,
          10,
          11,
          12,
          13,
          14,
          15,
          16,
          17,
          18,
          19,
          20,
          21,
          22,
          23
         ],
         "xaxis": "x3",
         "y": [
          7520.542369863013,
          7365.304909589041,
          7167.533780821918,
          6929.765191780822,
          6732.803463013698,
          6603.284095890411,
          6491.399463013699,
          6384.250865753425,
          6193.813276712329,
          5986.623041095891,
          5881.597284931507,
          5925.021632876713,
          6102.053394520548,
          6317.11495890411,
          6566.951668493151,
          6744.854810958905,
          6908.262216438356,
          7087.536495890411,
          7285.780556164384,
          7477.462046575342,
          7644.243980821917,
          7698.102150684932,
          7676.513243835616,
          7598.654865753425
         ],
         "yaxis": "y3"
        }
       ],
       "layout": {
        "annotations": [
         {
          "font": {},
          "showarrow": false,
          "text": "source=Solar Photovoltaic",
          "x": 0.15999999999999998,
          "xanchor": "center",
          "xref": "paper",
          "y": 1,
          "yanchor": "bottom",
          "yref": "paper"
         },
         {
          "font": {},
          "showarrow": false,
          "text": "source=Combined Cycle",
          "x": 0.49999999999999994,
          "xanchor": "center",
          "xref": "paper",
          "y": 1,
          "yanchor": "bottom",
          "yref": "paper"
         },
         {
          "font": {},
          "showarrow": false,
          "text": "source=Wind",
          "x": 0.8399999999999999,
          "xanchor": "center",
          "xref": "paper",
          "y": 1,
          "yanchor": "bottom",
          "yref": "paper"
         }
        ],
        "barmode": "relative",
        "legend": {
         "title": {
          "text": "source"
         },
         "tracegroupgap": 0
        },
        "margin": {
         "t": 60
        },
        "template": {
         "data": {
          "bar": [
           {
            "error_x": {
             "color": "#2a3f5f"
            },
            "error_y": {
             "color": "#2a3f5f"
            },
            "marker": {
             "line": {
              "color": "#E5ECF6",
              "width": 0.5
             },
             "pattern": {
              "fillmode": "overlay",
              "size": 10,
              "solidity": 0.2
             }
            },
            "type": "bar"
           }
          ],
          "barpolar": [
           {
            "marker": {
             "line": {
              "color": "#E5ECF6",
              "width": 0.5
             },
             "pattern": {
              "fillmode": "overlay",
              "size": 10,
              "solidity": 0.2
             }
            },
            "type": "barpolar"
           }
          ],
          "carpet": [
           {
            "aaxis": {
             "endlinecolor": "#2a3f5f",
             "gridcolor": "white",
             "linecolor": "white",
             "minorgridcolor": "white",
             "startlinecolor": "#2a3f5f"
            },
            "baxis": {
             "endlinecolor": "#2a3f5f",
             "gridcolor": "white",
             "linecolor": "white",
             "minorgridcolor": "white",
             "startlinecolor": "#2a3f5f"
            },
            "type": "carpet"
           }
          ],
          "choropleth": [
           {
            "colorbar": {
             "outlinewidth": 0,
             "ticks": ""
            },
            "type": "choropleth"
           }
          ],
          "contour": [
           {
            "colorbar": {
             "outlinewidth": 0,
             "ticks": ""
            },
            "colorscale": [
             [
              0,
              "#0d0887"
             ],
             [
              0.1111111111111111,
              "#46039f"
             ],
             [
              0.2222222222222222,
              "#7201a8"
             ],
             [
              0.3333333333333333,
              "#9c179e"
             ],
             [
              0.4444444444444444,
              "#bd3786"
             ],
             [
              0.5555555555555556,
              "#d8576b"
             ],
             [
              0.6666666666666666,
              "#ed7953"
             ],
             [
              0.7777777777777778,
              "#fb9f3a"
             ],
             [
              0.8888888888888888,
              "#fdca26"
             ],
             [
              1,
              "#f0f921"
             ]
            ],
            "type": "contour"
           }
          ],
          "contourcarpet": [
           {
            "colorbar": {
             "outlinewidth": 0,
             "ticks": ""
            },
            "type": "contourcarpet"
           }
          ],
          "heatmap": [
           {
            "colorbar": {
             "outlinewidth": 0,
             "ticks": ""
            },
            "colorscale": [
             [
              0,
              "#0d0887"
             ],
             [
              0.1111111111111111,
              "#46039f"
             ],
             [
              0.2222222222222222,
              "#7201a8"
             ],
             [
              0.3333333333333333,
              "#9c179e"
             ],
             [
              0.4444444444444444,
              "#bd3786"
             ],
             [
              0.5555555555555556,
              "#d8576b"
             ],
             [
              0.6666666666666666,
              "#ed7953"
             ],
             [
              0.7777777777777778,
              "#fb9f3a"
             ],
             [
              0.8888888888888888,
              "#fdca26"
             ],
             [
              1,
              "#f0f921"
             ]
            ],
            "type": "heatmap"
           }
          ],
          "heatmapgl": [
           {
            "colorbar": {
             "outlinewidth": 0,
             "ticks": ""
            },
            "colorscale": [
             [
              0,
              "#0d0887"
             ],
             [
              0.1111111111111111,
              "#46039f"
             ],
             [
              0.2222222222222222,
              "#7201a8"
             ],
             [
              0.3333333333333333,
              "#9c179e"
             ],
             [
              0.4444444444444444,
              "#bd3786"
             ],
             [
              0.5555555555555556,
              "#d8576b"
             ],
             [
              0.6666666666666666,
              "#ed7953"
             ],
             [
              0.7777777777777778,
              "#fb9f3a"
             ],
             [
              0.8888888888888888,
              "#fdca26"
             ],
             [
              1,
              "#f0f921"
             ]
            ],
            "type": "heatmapgl"
           }
          ],
          "histogram": [
           {
            "marker": {
             "pattern": {
              "fillmode": "overlay",
              "size": 10,
              "solidity": 0.2
             }
            },
            "type": "histogram"
           }
          ],
          "histogram2d": [
           {
            "colorbar": {
             "outlinewidth": 0,
             "ticks": ""
            },
            "colorscale": [
             [
              0,
              "#0d0887"
             ],
             [
              0.1111111111111111,
              "#46039f"
             ],
             [
              0.2222222222222222,
              "#7201a8"
             ],
             [
              0.3333333333333333,
              "#9c179e"
             ],
             [
              0.4444444444444444,
              "#bd3786"
             ],
             [
              0.5555555555555556,
              "#d8576b"
             ],
             [
              0.6666666666666666,
              "#ed7953"
             ],
             [
              0.7777777777777778,
              "#fb9f3a"
             ],
             [
              0.8888888888888888,
              "#fdca26"
             ],
             [
              1,
              "#f0f921"
             ]
            ],
            "type": "histogram2d"
           }
          ],
          "histogram2dcontour": [
           {
            "colorbar": {
             "outlinewidth": 0,
             "ticks": ""
            },
            "colorscale": [
             [
              0,
              "#0d0887"
             ],
             [
              0.1111111111111111,
              "#46039f"
             ],
             [
              0.2222222222222222,
              "#7201a8"
             ],
             [
              0.3333333333333333,
              "#9c179e"
             ],
             [
              0.4444444444444444,
              "#bd3786"
             ],
             [
              0.5555555555555556,
              "#d8576b"
             ],
             [
              0.6666666666666666,
              "#ed7953"
             ],
             [
              0.7777777777777778,
              "#fb9f3a"
             ],
             [
              0.8888888888888888,
              "#fdca26"
             ],
             [
              1,
              "#f0f921"
             ]
            ],
            "type": "histogram2dcontour"
           }
          ],
          "mesh3d": [
           {
            "colorbar": {
             "outlinewidth": 0,
             "ticks": ""
            },
            "type": "mesh3d"
           }
          ],
          "parcoords": [
           {
            "line": {
             "colorbar": {
              "outlinewidth": 0,
              "ticks": ""
             }
            },
            "type": "parcoords"
           }
          ],
          "pie": [
           {
            "automargin": true,
            "type": "pie"
           }
          ],
          "scatter": [
           {
            "fillpattern": {
             "fillmode": "overlay",
             "size": 10,
             "solidity": 0.2
            },
            "type": "scatter"
           }
          ],
          "scatter3d": [
           {
            "line": {
             "colorbar": {
              "outlinewidth": 0,
              "ticks": ""
             }
            },
            "marker": {
             "colorbar": {
              "outlinewidth": 0,
              "ticks": ""
             }
            },
            "type": "scatter3d"
           }
          ],
          "scattercarpet": [
           {
            "marker": {
             "colorbar": {
              "outlinewidth": 0,
              "ticks": ""
             }
            },
            "type": "scattercarpet"
           }
          ],
          "scattergeo": [
           {
            "marker": {
             "colorbar": {
              "outlinewidth": 0,
              "ticks": ""
             }
            },
            "type": "scattergeo"
           }
          ],
          "scattergl": [
           {
            "marker": {
             "colorbar": {
              "outlinewidth": 0,
              "ticks": ""
             }
            },
            "type": "scattergl"
           }
          ],
          "scattermapbox": [
           {
            "marker": {
             "colorbar": {
              "outlinewidth": 0,
              "ticks": ""
             }
            },
            "type": "scattermapbox"
           }
          ],
          "scatterpolar": [
           {
            "marker": {
             "colorbar": {
              "outlinewidth": 0,
              "ticks": ""
             }
            },
            "type": "scatterpolar"
           }
          ],
          "scatterpolargl": [
           {
            "marker": {
             "colorbar": {
              "outlinewidth": 0,
              "ticks": ""
             }
            },
            "type": "scatterpolargl"
           }
          ],
          "scatterternary": [
           {
            "marker": {
             "colorbar": {
              "outlinewidth": 0,
              "ticks": ""
             }
            },
            "type": "scatterternary"
           }
          ],
          "surface": [
           {
            "colorbar": {
             "outlinewidth": 0,
             "ticks": ""
            },
            "colorscale": [
             [
              0,
              "#0d0887"
             ],
             [
              0.1111111111111111,
              "#46039f"
             ],
             [
              0.2222222222222222,
              "#7201a8"
             ],
             [
              0.3333333333333333,
              "#9c179e"
             ],
             [
              0.4444444444444444,
              "#bd3786"
             ],
             [
              0.5555555555555556,
              "#d8576b"
             ],
             [
              0.6666666666666666,
              "#ed7953"
             ],
             [
              0.7777777777777778,
              "#fb9f3a"
             ],
             [
              0.8888888888888888,
              "#fdca26"
             ],
             [
              1,
              "#f0f921"
             ]
            ],
            "type": "surface"
           }
          ],
          "table": [
           {
            "cells": {
             "fill": {
              "color": "#EBF0F8"
             },
             "line": {
              "color": "white"
             }
            },
            "header": {
             "fill": {
              "color": "#C8D4E3"
             },
             "line": {
              "color": "white"
             }
            },
            "type": "table"
           }
          ]
         },
         "layout": {
          "annotationdefaults": {
           "arrowcolor": "#2a3f5f",
           "arrowhead": 0,
           "arrowwidth": 1
          },
          "autotypenumbers": "strict",
          "coloraxis": {
           "colorbar": {
            "outlinewidth": 0,
            "ticks": ""
           }
          },
          "colorscale": {
           "diverging": [
            [
             0,
             "#8e0152"
            ],
            [
             0.1,
             "#c51b7d"
            ],
            [
             0.2,
             "#de77ae"
            ],
            [
             0.3,
             "#f1b6da"
            ],
            [
             0.4,
             "#fde0ef"
            ],
            [
             0.5,
             "#f7f7f7"
            ],
            [
             0.6,
             "#e6f5d0"
            ],
            [
             0.7,
             "#b8e186"
            ],
            [
             0.8,
             "#7fbc41"
            ],
            [
             0.9,
             "#4d9221"
            ],
            [
             1,
             "#276419"
            ]
           ],
           "sequential": [
            [
             0,
             "#0d0887"
            ],
            [
             0.1111111111111111,
             "#46039f"
            ],
            [
             0.2222222222222222,
             "#7201a8"
            ],
            [
             0.3333333333333333,
             "#9c179e"
            ],
            [
             0.4444444444444444,
             "#bd3786"
            ],
            [
             0.5555555555555556,
             "#d8576b"
            ],
            [
             0.6666666666666666,
             "#ed7953"
            ],
            [
             0.7777777777777778,
             "#fb9f3a"
            ],
            [
             0.8888888888888888,
             "#fdca26"
            ],
            [
             1,
             "#f0f921"
            ]
           ],
           "sequentialminus": [
            [
             0,
             "#0d0887"
            ],
            [
             0.1111111111111111,
             "#46039f"
            ],
            [
             0.2222222222222222,
             "#7201a8"
            ],
            [
             0.3333333333333333,
             "#9c179e"
            ],
            [
             0.4444444444444444,
             "#bd3786"
            ],
            [
             0.5555555555555556,
             "#d8576b"
            ],
            [
             0.6666666666666666,
             "#ed7953"
            ],
            [
             0.7777777777777778,
             "#fb9f3a"
            ],
            [
             0.8888888888888888,
             "#fdca26"
            ],
            [
             1,
             "#f0f921"
            ]
           ]
          },
          "colorway": [
           "#636efa",
           "#EF553B",
           "#00cc96",
           "#ab63fa",
           "#FFA15A",
           "#19d3f3",
           "#FF6692",
           "#B6E880",
           "#FF97FF",
           "#FECB52"
          ],
          "font": {
           "color": "#2a3f5f"
          },
          "geo": {
           "bgcolor": "white",
           "lakecolor": "white",
           "landcolor": "#E5ECF6",
           "showlakes": true,
           "showland": true,
           "subunitcolor": "white"
          },
          "hoverlabel": {
           "align": "left"
          },
          "hovermode": "closest",
          "mapbox": {
           "style": "light"
          },
          "paper_bgcolor": "white",
          "plot_bgcolor": "#E5ECF6",
          "polar": {
           "angularaxis": {
            "gridcolor": "white",
            "linecolor": "white",
            "ticks": ""
           },
           "bgcolor": "#E5ECF6",
           "radialaxis": {
            "gridcolor": "white",
            "linecolor": "white",
            "ticks": ""
           }
          },
          "scene": {
           "xaxis": {
            "backgroundcolor": "#E5ECF6",
            "gridcolor": "white",
            "gridwidth": 2,
            "linecolor": "white",
            "showbackground": true,
            "ticks": "",
            "zerolinecolor": "white"
           },
           "yaxis": {
            "backgroundcolor": "#E5ECF6",
            "gridcolor": "white",
            "gridwidth": 2,
            "linecolor": "white",
            "showbackground": true,
            "ticks": "",
            "zerolinecolor": "white"
           },
           "zaxis": {
            "backgroundcolor": "#E5ECF6",
            "gridcolor": "white",
            "gridwidth": 2,
            "linecolor": "white",
            "showbackground": true,
            "ticks": "",
            "zerolinecolor": "white"
           }
          },
          "shapedefaults": {
           "line": {
            "color": "#2a3f5f"
           }
          },
          "ternary": {
           "aaxis": {
            "gridcolor": "white",
            "linecolor": "white",
            "ticks": ""
           },
           "baxis": {
            "gridcolor": "white",
            "linecolor": "white",
            "ticks": ""
           },
           "bgcolor": "#E5ECF6",
           "caxis": {
            "gridcolor": "white",
            "linecolor": "white",
            "ticks": ""
           }
          },
          "title": {
           "x": 0.05
          },
          "xaxis": {
           "automargin": true,
           "gridcolor": "white",
           "linecolor": "white",
           "ticks": "",
           "title": {
            "standoff": 15
           },
           "zerolinecolor": "white",
           "zerolinewidth": 2
          },
          "yaxis": {
           "automargin": true,
           "gridcolor": "white",
           "linecolor": "white",
           "ticks": "",
           "title": {
            "standoff": 15
           },
           "zerolinecolor": "white",
           "zerolinewidth": 2
          }
         }
        },
        "xaxis": {
         "anchor": "y",
         "domain": [
          0,
          0.31999999999999995
         ],
         "title": {
          "text": "hour"
         }
        },
        "xaxis2": {
         "anchor": "y2",
         "domain": [
          0.33999999999999997,
          0.6599999999999999
         ],
         "matches": "x",
         "title": {
          "text": "hour"
         }
        },
        "xaxis3": {
         "anchor": "y3",
         "domain": [
          0.6799999999999999,
          0.9999999999999999
         ],
         "matches": "x",
         "title": {
          "text": "hour"
         }
        },
        "yaxis": {
         "anchor": "x",
         "domain": [
          0,
          1
         ],
         "title": {
          "text": "generation"
         }
        },
        "yaxis2": {
         "anchor": "x2",
         "domain": [
          0,
          1
         ],
         "matches": "y",
         "showticklabels": false
        },
        "yaxis3": {
         "anchor": "x3",
         "domain": [
          0,
          1
         ],
         "matches": "y",
         "showticklabels": false
        }
       }
      },
      "text/html": [
       "<div>                            <div id=\"c21f9dc0-0685-4ff6-8251-f7bc9f142beb\" class=\"plotly-graph-div\" style=\"height:525px; width:100%;\"></div>            <script type=\"text/javascript\">                require([\"plotly\"], function(Plotly) {                    window.PLOTLYENV=window.PLOTLYENV || {};                                    if (document.getElementById(\"c21f9dc0-0685-4ff6-8251-f7bc9f142beb\")) {                    Plotly.newPlot(                        \"c21f9dc0-0685-4ff6-8251-f7bc9f142beb\",                        [{\"alignmentgroup\":\"True\",\"hovertemplate\":\"source=Solar Photovoltaic\\u003cbr\\u003ehour=%{x}\\u003cbr\\u003egeneration=%{y}\\u003cextra\\u003e\\u003c\\u002fextra\\u003e\",\"legendgroup\":\"Solar Photovoltaic\",\"marker\":{\"color\":\"#636efa\",\"pattern\":{\"shape\":\"\"}},\"name\":\"Solar Photovoltaic\",\"offsetgroup\":\"Solar Photovoltaic\",\"orientation\":\"v\",\"showlegend\":true,\"textposition\":\"auto\",\"x\":[0,1,2,3,4,5,6,7,8,9,10,11,12,13,14,15,16,17,18,19,20,21,22,23],\"xaxis\":\"x\",\"y\":[2.622802197802198,1.8423076923076924,2.1118457300275484,2.054120879120879,1.2151098901098902,1.62986301369863,4.740616438356165,235.00469589041094,1590.9489506849313,4340.580106849316,6776.362652054794,8080.941810958904,8690.022046575343,8850.174389041094,8741.701210958903,8271.393808219178,7217.150778082192,5581.450257534247,3850.509465753425,2139.9751534246575,657.9104547945205,60.85015616438356,4.746027397260274,2.750684931506849],\"yaxis\":\"y\",\"type\":\"bar\"},{\"alignmentgroup\":\"True\",\"hovertemplate\":\"source=Combined Cycle\\u003cbr\\u003ehour=%{x}\\u003cbr\\u003egeneration=%{y}\\u003cextra\\u003e\\u003c\\u002fextra\\u003e\",\"legendgroup\":\"Combined Cycle\",\"marker\":{\"color\":\"#EF553B\",\"pattern\":{\"shape\":\"\"}},\"name\":\"Combined Cycle\",\"offsetgroup\":\"Combined Cycle\",\"orientation\":\"v\",\"showlegend\":true,\"textposition\":\"auto\",\"x\":[0,1,2,3,4,5,6,7,8,9,10,11,12,13,14,15,16,17,18,19,20,21,22,23],\"xaxis\":\"x2\",\"y\":[6963.613230136986,6504.967232876713,6278.37253150685,6150.918498630137,6156.554084931507,6393.992739726028,7039.307624657534,7592.385002739727,7629.764216438356,7350.913673972603,6963.980676712329,6645.567673972602,6529.432169863014,6457.921884931507,6390.021553424658,6355.383564383562,6564.988876712328,6988.64442739726,7493.2227315068485,8058.497690410959,8479.731060273973,8583.457060273973,8303.91475890411,7819.593479452055],\"yaxis\":\"y2\",\"type\":\"bar\"},{\"alignmentgroup\":\"True\",\"hovertemplate\":\"source=Wind\\u003cbr\\u003ehour=%{x}\\u003cbr\\u003egeneration=%{y}\\u003cextra\\u003e\\u003c\\u002fextra\\u003e\",\"legendgroup\":\"Wind\",\"marker\":{\"color\":\"#00cc96\",\"pattern\":{\"shape\":\"\"}},\"name\":\"Wind\",\"offsetgroup\":\"Wind\",\"orientation\":\"v\",\"showlegend\":true,\"textposition\":\"auto\",\"x\":[0,1,2,3,4,5,6,7,8,9,10,11,12,13,14,15,16,17,18,19,20,21,22,23],\"xaxis\":\"x3\",\"y\":[7520.542369863013,7365.304909589041,7167.533780821918,6929.765191780822,6732.803463013698,6603.284095890411,6491.399463013699,6384.250865753425,6193.813276712329,5986.623041095891,5881.597284931507,5925.021632876713,6102.053394520548,6317.11495890411,6566.951668493151,6744.854810958905,6908.262216438356,7087.536495890411,7285.780556164384,7477.462046575342,7644.243980821917,7698.102150684932,7676.513243835616,7598.654865753425],\"yaxis\":\"y3\",\"type\":\"bar\"}],                        {\"template\":{\"data\":{\"histogram2dcontour\":[{\"type\":\"histogram2dcontour\",\"colorbar\":{\"outlinewidth\":0,\"ticks\":\"\"},\"colorscale\":[[0.0,\"#0d0887\"],[0.1111111111111111,\"#46039f\"],[0.2222222222222222,\"#7201a8\"],[0.3333333333333333,\"#9c179e\"],[0.4444444444444444,\"#bd3786\"],[0.5555555555555556,\"#d8576b\"],[0.6666666666666666,\"#ed7953\"],[0.7777777777777778,\"#fb9f3a\"],[0.8888888888888888,\"#fdca26\"],[1.0,\"#f0f921\"]]}],\"choropleth\":[{\"type\":\"choropleth\",\"colorbar\":{\"outlinewidth\":0,\"ticks\":\"\"}}],\"histogram2d\":[{\"type\":\"histogram2d\",\"colorbar\":{\"outlinewidth\":0,\"ticks\":\"\"},\"colorscale\":[[0.0,\"#0d0887\"],[0.1111111111111111,\"#46039f\"],[0.2222222222222222,\"#7201a8\"],[0.3333333333333333,\"#9c179e\"],[0.4444444444444444,\"#bd3786\"],[0.5555555555555556,\"#d8576b\"],[0.6666666666666666,\"#ed7953\"],[0.7777777777777778,\"#fb9f3a\"],[0.8888888888888888,\"#fdca26\"],[1.0,\"#f0f921\"]]}],\"heatmap\":[{\"type\":\"heatmap\",\"colorbar\":{\"outlinewidth\":0,\"ticks\":\"\"},\"colorscale\":[[0.0,\"#0d0887\"],[0.1111111111111111,\"#46039f\"],[0.2222222222222222,\"#7201a8\"],[0.3333333333333333,\"#9c179e\"],[0.4444444444444444,\"#bd3786\"],[0.5555555555555556,\"#d8576b\"],[0.6666666666666666,\"#ed7953\"],[0.7777777777777778,\"#fb9f3a\"],[0.8888888888888888,\"#fdca26\"],[1.0,\"#f0f921\"]]}],\"heatmapgl\":[{\"type\":\"heatmapgl\",\"colorbar\":{\"outlinewidth\":0,\"ticks\":\"\"},\"colorscale\":[[0.0,\"#0d0887\"],[0.1111111111111111,\"#46039f\"],[0.2222222222222222,\"#7201a8\"],[0.3333333333333333,\"#9c179e\"],[0.4444444444444444,\"#bd3786\"],[0.5555555555555556,\"#d8576b\"],[0.6666666666666666,\"#ed7953\"],[0.7777777777777778,\"#fb9f3a\"],[0.8888888888888888,\"#fdca26\"],[1.0,\"#f0f921\"]]}],\"contourcarpet\":[{\"type\":\"contourcarpet\",\"colorbar\":{\"outlinewidth\":0,\"ticks\":\"\"}}],\"contour\":[{\"type\":\"contour\",\"colorbar\":{\"outlinewidth\":0,\"ticks\":\"\"},\"colorscale\":[[0.0,\"#0d0887\"],[0.1111111111111111,\"#46039f\"],[0.2222222222222222,\"#7201a8\"],[0.3333333333333333,\"#9c179e\"],[0.4444444444444444,\"#bd3786\"],[0.5555555555555556,\"#d8576b\"],[0.6666666666666666,\"#ed7953\"],[0.7777777777777778,\"#fb9f3a\"],[0.8888888888888888,\"#fdca26\"],[1.0,\"#f0f921\"]]}],\"surface\":[{\"type\":\"surface\",\"colorbar\":{\"outlinewidth\":0,\"ticks\":\"\"},\"colorscale\":[[0.0,\"#0d0887\"],[0.1111111111111111,\"#46039f\"],[0.2222222222222222,\"#7201a8\"],[0.3333333333333333,\"#9c179e\"],[0.4444444444444444,\"#bd3786\"],[0.5555555555555556,\"#d8576b\"],[0.6666666666666666,\"#ed7953\"],[0.7777777777777778,\"#fb9f3a\"],[0.8888888888888888,\"#fdca26\"],[1.0,\"#f0f921\"]]}],\"mesh3d\":[{\"type\":\"mesh3d\",\"colorbar\":{\"outlinewidth\":0,\"ticks\":\"\"}}],\"scatter\":[{\"fillpattern\":{\"fillmode\":\"overlay\",\"size\":10,\"solidity\":0.2},\"type\":\"scatter\"}],\"parcoords\":[{\"type\":\"parcoords\",\"line\":{\"colorbar\":{\"outlinewidth\":0,\"ticks\":\"\"}}}],\"scatterpolargl\":[{\"type\":\"scatterpolargl\",\"marker\":{\"colorbar\":{\"outlinewidth\":0,\"ticks\":\"\"}}}],\"bar\":[{\"error_x\":{\"color\":\"#2a3f5f\"},\"error_y\":{\"color\":\"#2a3f5f\"},\"marker\":{\"line\":{\"color\":\"#E5ECF6\",\"width\":0.5},\"pattern\":{\"fillmode\":\"overlay\",\"size\":10,\"solidity\":0.2}},\"type\":\"bar\"}],\"scattergeo\":[{\"type\":\"scattergeo\",\"marker\":{\"colorbar\":{\"outlinewidth\":0,\"ticks\":\"\"}}}],\"scatterpolar\":[{\"type\":\"scatterpolar\",\"marker\":{\"colorbar\":{\"outlinewidth\":0,\"ticks\":\"\"}}}],\"histogram\":[{\"marker\":{\"pattern\":{\"fillmode\":\"overlay\",\"size\":10,\"solidity\":0.2}},\"type\":\"histogram\"}],\"scattergl\":[{\"type\":\"scattergl\",\"marker\":{\"colorbar\":{\"outlinewidth\":0,\"ticks\":\"\"}}}],\"scatter3d\":[{\"type\":\"scatter3d\",\"line\":{\"colorbar\":{\"outlinewidth\":0,\"ticks\":\"\"}},\"marker\":{\"colorbar\":{\"outlinewidth\":0,\"ticks\":\"\"}}}],\"scattermapbox\":[{\"type\":\"scattermapbox\",\"marker\":{\"colorbar\":{\"outlinewidth\":0,\"ticks\":\"\"}}}],\"scatterternary\":[{\"type\":\"scatterternary\",\"marker\":{\"colorbar\":{\"outlinewidth\":0,\"ticks\":\"\"}}}],\"scattercarpet\":[{\"type\":\"scattercarpet\",\"marker\":{\"colorbar\":{\"outlinewidth\":0,\"ticks\":\"\"}}}],\"carpet\":[{\"aaxis\":{\"endlinecolor\":\"#2a3f5f\",\"gridcolor\":\"white\",\"linecolor\":\"white\",\"minorgridcolor\":\"white\",\"startlinecolor\":\"#2a3f5f\"},\"baxis\":{\"endlinecolor\":\"#2a3f5f\",\"gridcolor\":\"white\",\"linecolor\":\"white\",\"minorgridcolor\":\"white\",\"startlinecolor\":\"#2a3f5f\"},\"type\":\"carpet\"}],\"table\":[{\"cells\":{\"fill\":{\"color\":\"#EBF0F8\"},\"line\":{\"color\":\"white\"}},\"header\":{\"fill\":{\"color\":\"#C8D4E3\"},\"line\":{\"color\":\"white\"}},\"type\":\"table\"}],\"barpolar\":[{\"marker\":{\"line\":{\"color\":\"#E5ECF6\",\"width\":0.5},\"pattern\":{\"fillmode\":\"overlay\",\"size\":10,\"solidity\":0.2}},\"type\":\"barpolar\"}],\"pie\":[{\"automargin\":true,\"type\":\"pie\"}]},\"layout\":{\"autotypenumbers\":\"strict\",\"colorway\":[\"#636efa\",\"#EF553B\",\"#00cc96\",\"#ab63fa\",\"#FFA15A\",\"#19d3f3\",\"#FF6692\",\"#B6E880\",\"#FF97FF\",\"#FECB52\"],\"font\":{\"color\":\"#2a3f5f\"},\"hovermode\":\"closest\",\"hoverlabel\":{\"align\":\"left\"},\"paper_bgcolor\":\"white\",\"plot_bgcolor\":\"#E5ECF6\",\"polar\":{\"bgcolor\":\"#E5ECF6\",\"angularaxis\":{\"gridcolor\":\"white\",\"linecolor\":\"white\",\"ticks\":\"\"},\"radialaxis\":{\"gridcolor\":\"white\",\"linecolor\":\"white\",\"ticks\":\"\"}},\"ternary\":{\"bgcolor\":\"#E5ECF6\",\"aaxis\":{\"gridcolor\":\"white\",\"linecolor\":\"white\",\"ticks\":\"\"},\"baxis\":{\"gridcolor\":\"white\",\"linecolor\":\"white\",\"ticks\":\"\"},\"caxis\":{\"gridcolor\":\"white\",\"linecolor\":\"white\",\"ticks\":\"\"}},\"coloraxis\":{\"colorbar\":{\"outlinewidth\":0,\"ticks\":\"\"}},\"colorscale\":{\"sequential\":[[0.0,\"#0d0887\"],[0.1111111111111111,\"#46039f\"],[0.2222222222222222,\"#7201a8\"],[0.3333333333333333,\"#9c179e\"],[0.4444444444444444,\"#bd3786\"],[0.5555555555555556,\"#d8576b\"],[0.6666666666666666,\"#ed7953\"],[0.7777777777777778,\"#fb9f3a\"],[0.8888888888888888,\"#fdca26\"],[1.0,\"#f0f921\"]],\"sequentialminus\":[[0.0,\"#0d0887\"],[0.1111111111111111,\"#46039f\"],[0.2222222222222222,\"#7201a8\"],[0.3333333333333333,\"#9c179e\"],[0.4444444444444444,\"#bd3786\"],[0.5555555555555556,\"#d8576b\"],[0.6666666666666666,\"#ed7953\"],[0.7777777777777778,\"#fb9f3a\"],[0.8888888888888888,\"#fdca26\"],[1.0,\"#f0f921\"]],\"diverging\":[[0,\"#8e0152\"],[0.1,\"#c51b7d\"],[0.2,\"#de77ae\"],[0.3,\"#f1b6da\"],[0.4,\"#fde0ef\"],[0.5,\"#f7f7f7\"],[0.6,\"#e6f5d0\"],[0.7,\"#b8e186\"],[0.8,\"#7fbc41\"],[0.9,\"#4d9221\"],[1,\"#276419\"]]},\"xaxis\":{\"gridcolor\":\"white\",\"linecolor\":\"white\",\"ticks\":\"\",\"title\":{\"standoff\":15},\"zerolinecolor\":\"white\",\"automargin\":true,\"zerolinewidth\":2},\"yaxis\":{\"gridcolor\":\"white\",\"linecolor\":\"white\",\"ticks\":\"\",\"title\":{\"standoff\":15},\"zerolinecolor\":\"white\",\"automargin\":true,\"zerolinewidth\":2},\"scene\":{\"xaxis\":{\"backgroundcolor\":\"#E5ECF6\",\"gridcolor\":\"white\",\"linecolor\":\"white\",\"showbackground\":true,\"ticks\":\"\",\"zerolinecolor\":\"white\",\"gridwidth\":2},\"yaxis\":{\"backgroundcolor\":\"#E5ECF6\",\"gridcolor\":\"white\",\"linecolor\":\"white\",\"showbackground\":true,\"ticks\":\"\",\"zerolinecolor\":\"white\",\"gridwidth\":2},\"zaxis\":{\"backgroundcolor\":\"#E5ECF6\",\"gridcolor\":\"white\",\"linecolor\":\"white\",\"showbackground\":true,\"ticks\":\"\",\"zerolinecolor\":\"white\",\"gridwidth\":2}},\"shapedefaults\":{\"line\":{\"color\":\"#2a3f5f\"}},\"annotationdefaults\":{\"arrowcolor\":\"#2a3f5f\",\"arrowhead\":0,\"arrowwidth\":1},\"geo\":{\"bgcolor\":\"white\",\"landcolor\":\"#E5ECF6\",\"subunitcolor\":\"white\",\"showland\":true,\"showlakes\":true,\"lakecolor\":\"white\"},\"title\":{\"x\":0.05},\"mapbox\":{\"style\":\"light\"}}},\"xaxis\":{\"anchor\":\"y\",\"domain\":[0.0,0.31999999999999995],\"title\":{\"text\":\"hour\"}},\"yaxis\":{\"anchor\":\"x\",\"domain\":[0.0,1.0],\"title\":{\"text\":\"generation\"}},\"xaxis2\":{\"anchor\":\"y2\",\"domain\":[0.33999999999999997,0.6599999999999999],\"matches\":\"x\",\"title\":{\"text\":\"hour\"}},\"yaxis2\":{\"anchor\":\"x2\",\"domain\":[0.0,1.0],\"matches\":\"y\",\"showticklabels\":false},\"xaxis3\":{\"anchor\":\"y3\",\"domain\":[0.6799999999999999,0.9999999999999999],\"matches\":\"x\",\"title\":{\"text\":\"hour\"}},\"yaxis3\":{\"anchor\":\"x3\",\"domain\":[0.0,1.0],\"matches\":\"y\",\"showticklabels\":false},\"annotations\":[{\"font\":{},\"showarrow\":false,\"text\":\"source=Solar Photovoltaic\",\"x\":0.15999999999999998,\"xanchor\":\"center\",\"xref\":\"paper\",\"y\":1.0,\"yanchor\":\"bottom\",\"yref\":\"paper\"},{\"font\":{},\"showarrow\":false,\"text\":\"source=Combined Cycle\",\"x\":0.49999999999999994,\"xanchor\":\"center\",\"xref\":\"paper\",\"y\":1.0,\"yanchor\":\"bottom\",\"yref\":\"paper\"},{\"font\":{},\"showarrow\":false,\"text\":\"source=Wind\",\"x\":0.8399999999999999,\"xanchor\":\"center\",\"xref\":\"paper\",\"y\":1.0,\"yanchor\":\"bottom\",\"yref\":\"paper\"}],\"legend\":{\"title\":{\"text\":\"source\"},\"tracegroupgap\":0},\"margin\":{\"t\":60},\"barmode\":\"relative\"},                        {\"responsive\": true}                    ).then(function(){\n",
       "                            \n",
       "var gd = document.getElementById('c21f9dc0-0685-4ff6-8251-f7bc9f142beb');\n",
       "var x = new MutationObserver(function (mutations, observer) {{\n",
       "        var display = window.getComputedStyle(gd).display;\n",
       "        if (!display || display === 'none') {{\n",
       "            console.log([gd, 'removed!']);\n",
       "            Plotly.purge(gd);\n",
       "            observer.disconnect();\n",
       "        }}\n",
       "}});\n",
       "\n",
       "// Listen for the removal of the full notebook cells\n",
       "var notebookContainer = gd.closest('#notebook-container');\n",
       "if (notebookContainer) {{\n",
       "    x.observe(notebookContainer, {childList: true});\n",
       "}}\n",
       "\n",
       "// Listen for the clearing of the current output cell\n",
       "var outputEl = gd.closest('.output');\n",
       "if (outputEl) {{\n",
       "    x.observe(outputEl, {childList: true});\n",
       "}}\n",
       "\n",
       "                        })                };                });            </script>        </div>"
      ]
     },
     "execution_count": null,
     "metadata": {},
     "output_type": "display_data"
    }
   ],
   "source": []
  }
 ],
 "metadata": {
  "kernelspec": {
   "display_name": "base",
   "language": "python",
   "name": "python3"
  },
  "language_info": {
   "codemirror_mode": {
    "name": "ipython",
    "version": 3
   },
   "file_extension": ".py",
   "mimetype": "text/x-python",
   "name": "python",
   "nbconvert_exporter": "python",
   "pygments_lexer": "ipython3",
   "version": "3.11.4"
  }
 },
 "nbformat": 4,
 "nbformat_minor": 2
}

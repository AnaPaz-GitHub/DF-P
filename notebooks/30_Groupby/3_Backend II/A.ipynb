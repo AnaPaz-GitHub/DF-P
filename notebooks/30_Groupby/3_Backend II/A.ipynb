{
 "cells": [
  {
   "attachments": {},
   "cell_type": "markdown",
   "metadata": {},
   "source": [
    "# Sketch BackEnd: Parametrized Data Operations"
   ]
  },
  {
   "attachments": {},
   "cell_type": "markdown",
   "metadata": {},
   "source": [
    "## Load data"
   ]
  },
  {
   "cell_type": "code",
   "execution_count": null,
   "metadata": {},
   "outputs": [
    {
     "data": {
      "text/html": [
       "<div>\n",
       "<style scoped>\n",
       "    .dataframe tbody tr th:only-of-type {\n",
       "        vertical-align: middle;\n",
       "    }\n",
       "\n",
       "    .dataframe tbody tr th {\n",
       "        vertical-align: top;\n",
       "    }\n",
       "\n",
       "    .dataframe thead th {\n",
       "        text-align: right;\n",
       "    }\n",
       "</style>\n",
       "<table border=\"1\" class=\"dataframe\">\n",
       "  <thead>\n",
       "    <tr style=\"text-align: right;\">\n",
       "      <th></th>\n",
       "      <th></th>\n",
       "      <th></th>\n",
       "      <th></th>\n",
       "      <th></th>\n",
       "      <th></th>\n",
       "      <th>Hydraulic</th>\n",
       "      <th>Adjustment P48</th>\n",
       "      <th>Balance Andorra</th>\n",
       "      <th>Balance Morocco</th>\n",
       "      <th>Balance France</th>\n",
       "      <th>Balance Portugal</th>\n",
       "      <th>Other Renewables</th>\n",
       "      <th>Non-Renewable Waste</th>\n",
       "      <th>Cogeneration</th>\n",
       "      <th>Wind</th>\n",
       "      <th>Fuel-Gas</th>\n",
       "      <th>Coal</th>\n",
       "      <th>Balearic Link</th>\n",
       "      <th>Pumping Consumption</th>\n",
       "      <th>Solar Thermal</th>\n",
       "      <th>Solar Photovoltaic</th>\n",
       "      <th>Combined Cycle</th>\n",
       "      <th>Pumping Turbine</th>\n",
       "      <th>Nuclear</th>\n",
       "    </tr>\n",
       "    <tr>\n",
       "      <th>year</th>\n",
       "      <th>month</th>\n",
       "      <th>day</th>\n",
       "      <th>hour</th>\n",
       "      <th>weekday</th>\n",
       "      <th>weekend</th>\n",
       "      <th></th>\n",
       "      <th></th>\n",
       "      <th></th>\n",
       "      <th></th>\n",
       "      <th></th>\n",
       "      <th></th>\n",
       "      <th></th>\n",
       "      <th></th>\n",
       "      <th></th>\n",
       "      <th></th>\n",
       "      <th></th>\n",
       "      <th></th>\n",
       "      <th></th>\n",
       "      <th></th>\n",
       "      <th></th>\n",
       "      <th></th>\n",
       "      <th></th>\n",
       "      <th></th>\n",
       "      <th></th>\n",
       "    </tr>\n",
       "  </thead>\n",
       "  <tbody>\n",
       "    <tr>\n",
       "      <th rowspan=\"5\" valign=\"top\">2015</th>\n",
       "      <th rowspan=\"5\" valign=\"top\">1</th>\n",
       "      <th rowspan=\"5\" valign=\"top\">1</th>\n",
       "      <th>0</th>\n",
       "      <th>3</th>\n",
       "      <th>0</th>\n",
       "      <td>2621.900</td>\n",
       "      <td>1300.0</td>\n",
       "      <td>-36.0</td>\n",
       "      <td>-540.0</td>\n",
       "      <td>-1000.0</td>\n",
       "      <td>291.700</td>\n",
       "      <td>486.4</td>\n",
       "      <td>NaN</td>\n",
       "      <td>1586.9</td>\n",
       "      <td>5517.400</td>\n",
       "      <td>421.6</td>\n",
       "      <td>5077.9</td>\n",
       "      <td>-128.0</td>\n",
       "      <td>-850.000</td>\n",
       "      <td>16.0</td>\n",
       "      <td>NaN</td>\n",
       "      <td>3458.10</td>\n",
       "      <td>NaN</td>\n",
       "      <td>7105.00</td>\n",
       "    </tr>\n",
       "    <tr>\n",
       "      <th>1</th>\n",
       "      <th>3</th>\n",
       "      <th>0</th>\n",
       "      <td>2532.300</td>\n",
       "      <td>1000.0</td>\n",
       "      <td>-35.0</td>\n",
       "      <td>-600.0</td>\n",
       "      <td>-1100.0</td>\n",
       "      <td>-44.100</td>\n",
       "      <td>486.4</td>\n",
       "      <td>NaN</td>\n",
       "      <td>1591.2</td>\n",
       "      <td>5034.400</td>\n",
       "      <td>422.3</td>\n",
       "      <td>5086.3</td>\n",
       "      <td>-102.0</td>\n",
       "      <td>-850.000</td>\n",
       "      <td>16.0</td>\n",
       "      <td>NaN</td>\n",
       "      <td>3789.50</td>\n",
       "      <td>NaN</td>\n",
       "      <td>7104.00</td>\n",
       "    </tr>\n",
       "    <tr>\n",
       "      <th>2</th>\n",
       "      <th>3</th>\n",
       "      <th>0</th>\n",
       "      <td>2421.800</td>\n",
       "      <td>1000.0</td>\n",
       "      <td>-33.0</td>\n",
       "      <td>-300.0</td>\n",
       "      <td>-994.0</td>\n",
       "      <td>-680.700</td>\n",
       "      <td>486.0</td>\n",
       "      <td>NaN</td>\n",
       "      <td>1584.6</td>\n",
       "      <td>4674.800</td>\n",
       "      <td>422.5</td>\n",
       "      <td>4827.6</td>\n",
       "      <td>-82.0</td>\n",
       "      <td>-1130.000</td>\n",
       "      <td>7.0</td>\n",
       "      <td>NaN</td>\n",
       "      <td>3458.90</td>\n",
       "      <td>NaN</td>\n",
       "      <td>7104.00</td>\n",
       "    </tr>\n",
       "    <tr>\n",
       "      <th>3</th>\n",
       "      <th>3</th>\n",
       "      <th>0</th>\n",
       "      <td>1742.500</td>\n",
       "      <td>1000.0</td>\n",
       "      <td>-30.0</td>\n",
       "      <td>-140.0</td>\n",
       "      <td>-44.1</td>\n",
       "      <td>-975.200</td>\n",
       "      <td>486.1</td>\n",
       "      <td>NaN</td>\n",
       "      <td>1585.3</td>\n",
       "      <td>4257.600</td>\n",
       "      <td>421.8</td>\n",
       "      <td>4382.7</td>\n",
       "      <td>-62.0</td>\n",
       "      <td>-1508.000</td>\n",
       "      <td>NaN</td>\n",
       "      <td>NaN</td>\n",
       "      <td>3066.00</td>\n",
       "      <td>NaN</td>\n",
       "      <td>7104.00</td>\n",
       "    </tr>\n",
       "    <tr>\n",
       "      <th>4</th>\n",
       "      <th>3</th>\n",
       "      <th>0</th>\n",
       "      <td>1612.100</td>\n",
       "      <td>1000.0</td>\n",
       "      <td>-27.0</td>\n",
       "      <td>-100.0</td>\n",
       "      <td>259.5</td>\n",
       "      <td>-1010.100</td>\n",
       "      <td>469.8</td>\n",
       "      <td>NaN</td>\n",
       "      <td>1534.5</td>\n",
       "      <td>4130.300</td>\n",
       "      <td>421.2</td>\n",
       "      <td>3925.6</td>\n",
       "      <td>-62.0</td>\n",
       "      <td>-1686.000</td>\n",
       "      <td>7.0</td>\n",
       "      <td>NaN</td>\n",
       "      <td>2722.40</td>\n",
       "      <td>NaN</td>\n",
       "      <td>7104.00</td>\n",
       "    </tr>\n",
       "    <tr>\n",
       "      <th>...</th>\n",
       "      <th>...</th>\n",
       "      <th>...</th>\n",
       "      <th>...</th>\n",
       "      <th>...</th>\n",
       "      <th>...</th>\n",
       "      <td>...</td>\n",
       "      <td>...</td>\n",
       "      <td>...</td>\n",
       "      <td>...</td>\n",
       "      <td>...</td>\n",
       "      <td>...</td>\n",
       "      <td>...</td>\n",
       "      <td>...</td>\n",
       "      <td>...</td>\n",
       "      <td>...</td>\n",
       "      <td>...</td>\n",
       "      <td>...</td>\n",
       "      <td>...</td>\n",
       "      <td>...</td>\n",
       "      <td>...</td>\n",
       "      <td>...</td>\n",
       "      <td>...</td>\n",
       "      <td>...</td>\n",
       "      <td>...</td>\n",
       "    </tr>\n",
       "    <tr>\n",
       "      <th rowspan=\"5\" valign=\"top\">2022</th>\n",
       "      <th rowspan=\"5\" valign=\"top\">12</th>\n",
       "      <th rowspan=\"5\" valign=\"top\">31</th>\n",
       "      <th>19</th>\n",
       "      <th>5</th>\n",
       "      <th>1</th>\n",
       "      <td>5182.725</td>\n",
       "      <td>-375.0</td>\n",
       "      <td>-77.0</td>\n",
       "      <td>-750.0</td>\n",
       "      <td>-1650.3</td>\n",
       "      <td>3465.000</td>\n",
       "      <td>268.1</td>\n",
       "      <td>264.3</td>\n",
       "      <td>773.7</td>\n",
       "      <td>10060.700</td>\n",
       "      <td>NaN</td>\n",
       "      <td>277.0</td>\n",
       "      <td>-266.0</td>\n",
       "      <td>-331.000</td>\n",
       "      <td>24.2</td>\n",
       "      <td>5.7</td>\n",
       "      <td>1151.00</td>\n",
       "      <td>2240.8000</td>\n",
       "      <td>6454.00</td>\n",
       "    </tr>\n",
       "    <tr>\n",
       "      <th>20</th>\n",
       "      <th>5</th>\n",
       "      <th>1</th>\n",
       "      <td>4771.475</td>\n",
       "      <td>325.0</td>\n",
       "      <td>-77.0</td>\n",
       "      <td>-750.0</td>\n",
       "      <td>-1525.4</td>\n",
       "      <td>3187.858</td>\n",
       "      <td>266.9</td>\n",
       "      <td>263.7</td>\n",
       "      <td>774.1</td>\n",
       "      <td>9969.200</td>\n",
       "      <td>NaN</td>\n",
       "      <td>277.0</td>\n",
       "      <td>-235.0</td>\n",
       "      <td>-904.150</td>\n",
       "      <td>NaN</td>\n",
       "      <td>3.6</td>\n",
       "      <td>1332.00</td>\n",
       "      <td>1888.5875</td>\n",
       "      <td>6456.75</td>\n",
       "    </tr>\n",
       "    <tr>\n",
       "      <th>21</th>\n",
       "      <th>5</th>\n",
       "      <th>1</th>\n",
       "      <td>4387.200</td>\n",
       "      <td>225.0</td>\n",
       "      <td>-73.0</td>\n",
       "      <td>-750.0</td>\n",
       "      <td>-290.0</td>\n",
       "      <td>2790.500</td>\n",
       "      <td>263.3</td>\n",
       "      <td>264.2</td>\n",
       "      <td>774.4</td>\n",
       "      <td>9306.725</td>\n",
       "      <td>NaN</td>\n",
       "      <td>283.0</td>\n",
       "      <td>-204.0</td>\n",
       "      <td>-1517.400</td>\n",
       "      <td>NaN</td>\n",
       "      <td>2.2</td>\n",
       "      <td>1563.10</td>\n",
       "      <td>1163.3750</td>\n",
       "      <td>6452.30</td>\n",
       "    </tr>\n",
       "    <tr>\n",
       "      <th>22</th>\n",
       "      <th>5</th>\n",
       "      <th>1</th>\n",
       "      <td>4055.500</td>\n",
       "      <td>-200.0</td>\n",
       "      <td>-67.0</td>\n",
       "      <td>-740.0</td>\n",
       "      <td>-1715.8</td>\n",
       "      <td>3355.000</td>\n",
       "      <td>259.2</td>\n",
       "      <td>264.7</td>\n",
       "      <td>760.6</td>\n",
       "      <td>8871.225</td>\n",
       "      <td>NaN</td>\n",
       "      <td>260.0</td>\n",
       "      <td>-153.0</td>\n",
       "      <td>-1846.700</td>\n",
       "      <td>NaN</td>\n",
       "      <td>1.7</td>\n",
       "      <td>1725.00</td>\n",
       "      <td>689.6000</td>\n",
       "      <td>6457.75</td>\n",
       "    </tr>\n",
       "    <tr>\n",
       "      <th>23</th>\n",
       "      <th>5</th>\n",
       "      <th>1</th>\n",
       "      <td>3963.950</td>\n",
       "      <td>-200.0</td>\n",
       "      <td>-62.0</td>\n",
       "      <td>-750.0</td>\n",
       "      <td>-258.0</td>\n",
       "      <td>2755.000</td>\n",
       "      <td>257.2</td>\n",
       "      <td>264.9</td>\n",
       "      <td>761.6</td>\n",
       "      <td>7506.300</td>\n",
       "      <td>NaN</td>\n",
       "      <td>260.0</td>\n",
       "      <td>-128.0</td>\n",
       "      <td>-2632.025</td>\n",
       "      <td>NaN</td>\n",
       "      <td>1.6</td>\n",
       "      <td>2104.55</td>\n",
       "      <td>240.9125</td>\n",
       "      <td>6415.45</td>\n",
       "    </tr>\n",
       "  </tbody>\n",
       "</table>\n",
       "<p>70128 rows × 19 columns</p>\n",
       "</div>"
      ],
      "text/plain": [
       "                                     Hydraulic  Adjustment P48  \\\n",
       "year month day hour weekday weekend                              \n",
       "2015 1     1   0    3       0         2621.900          1300.0   \n",
       "               1    3       0         2532.300          1000.0   \n",
       "               2    3       0         2421.800          1000.0   \n",
       "               3    3       0         1742.500          1000.0   \n",
       "               4    3       0         1612.100          1000.0   \n",
       "...                                        ...             ...   \n",
       "2022 12    31  19   5       1         5182.725          -375.0   \n",
       "               20   5       1         4771.475           325.0   \n",
       "               21   5       1         4387.200           225.0   \n",
       "               22   5       1         4055.500          -200.0   \n",
       "               23   5       1         3963.950          -200.0   \n",
       "\n",
       "                                     Balance Andorra  Balance Morocco  \\\n",
       "year month day hour weekday weekend                                     \n",
       "2015 1     1   0    3       0                  -36.0           -540.0   \n",
       "               1    3       0                  -35.0           -600.0   \n",
       "               2    3       0                  -33.0           -300.0   \n",
       "               3    3       0                  -30.0           -140.0   \n",
       "               4    3       0                  -27.0           -100.0   \n",
       "...                                              ...              ...   \n",
       "2022 12    31  19   5       1                  -77.0           -750.0   \n",
       "               20   5       1                  -77.0           -750.0   \n",
       "               21   5       1                  -73.0           -750.0   \n",
       "               22   5       1                  -67.0           -740.0   \n",
       "               23   5       1                  -62.0           -750.0   \n",
       "\n",
       "                                     Balance France  Balance Portugal  \\\n",
       "year month day hour weekday weekend                                     \n",
       "2015 1     1   0    3       0               -1000.0           291.700   \n",
       "               1    3       0               -1100.0           -44.100   \n",
       "               2    3       0                -994.0          -680.700   \n",
       "               3    3       0                 -44.1          -975.200   \n",
       "               4    3       0                 259.5         -1010.100   \n",
       "...                                             ...               ...   \n",
       "2022 12    31  19   5       1               -1650.3          3465.000   \n",
       "               20   5       1               -1525.4          3187.858   \n",
       "               21   5       1                -290.0          2790.500   \n",
       "               22   5       1               -1715.8          3355.000   \n",
       "               23   5       1                -258.0          2755.000   \n",
       "\n",
       "                                     Other Renewables  Non-Renewable Waste  \\\n",
       "year month day hour weekday weekend                                          \n",
       "2015 1     1   0    3       0                   486.4                  NaN   \n",
       "               1    3       0                   486.4                  NaN   \n",
       "               2    3       0                   486.0                  NaN   \n",
       "               3    3       0                   486.1                  NaN   \n",
       "               4    3       0                   469.8                  NaN   \n",
       "...                                               ...                  ...   \n",
       "2022 12    31  19   5       1                   268.1                264.3   \n",
       "               20   5       1                   266.9                263.7   \n",
       "               21   5       1                   263.3                264.2   \n",
       "               22   5       1                   259.2                264.7   \n",
       "               23   5       1                   257.2                264.9   \n",
       "\n",
       "                                     Cogeneration       Wind  Fuel-Gas  \\\n",
       "year month day hour weekday weekend                                      \n",
       "2015 1     1   0    3       0              1586.9   5517.400     421.6   \n",
       "               1    3       0              1591.2   5034.400     422.3   \n",
       "               2    3       0              1584.6   4674.800     422.5   \n",
       "               3    3       0              1585.3   4257.600     421.8   \n",
       "               4    3       0              1534.5   4130.300     421.2   \n",
       "...                                           ...        ...       ...   \n",
       "2022 12    31  19   5       1               773.7  10060.700       NaN   \n",
       "               20   5       1               774.1   9969.200       NaN   \n",
       "               21   5       1               774.4   9306.725       NaN   \n",
       "               22   5       1               760.6   8871.225       NaN   \n",
       "               23   5       1               761.6   7506.300       NaN   \n",
       "\n",
       "                                       Coal  Balearic Link  \\\n",
       "year month day hour weekday weekend                          \n",
       "2015 1     1   0    3       0        5077.9         -128.0   \n",
       "               1    3       0        5086.3         -102.0   \n",
       "               2    3       0        4827.6          -82.0   \n",
       "               3    3       0        4382.7          -62.0   \n",
       "               4    3       0        3925.6          -62.0   \n",
       "...                                     ...            ...   \n",
       "2022 12    31  19   5       1         277.0         -266.0   \n",
       "               20   5       1         277.0         -235.0   \n",
       "               21   5       1         283.0         -204.0   \n",
       "               22   5       1         260.0         -153.0   \n",
       "               23   5       1         260.0         -128.0   \n",
       "\n",
       "                                     Pumping Consumption  Solar Thermal  \\\n",
       "year month day hour weekday weekend                                       \n",
       "2015 1     1   0    3       0                   -850.000           16.0   \n",
       "               1    3       0                   -850.000           16.0   \n",
       "               2    3       0                  -1130.000            7.0   \n",
       "               3    3       0                  -1508.000            NaN   \n",
       "               4    3       0                  -1686.000            7.0   \n",
       "...                                                  ...            ...   \n",
       "2022 12    31  19   5       1                   -331.000           24.2   \n",
       "               20   5       1                   -904.150            NaN   \n",
       "               21   5       1                  -1517.400            NaN   \n",
       "               22   5       1                  -1846.700            NaN   \n",
       "               23   5       1                  -2632.025            NaN   \n",
       "\n",
       "                                     Solar Photovoltaic  Combined Cycle  \\\n",
       "year month day hour weekday weekend                                       \n",
       "2015 1     1   0    3       0                       NaN         3458.10   \n",
       "               1    3       0                       NaN         3789.50   \n",
       "               2    3       0                       NaN         3458.90   \n",
       "               3    3       0                       NaN         3066.00   \n",
       "               4    3       0                       NaN         2722.40   \n",
       "...                                                 ...             ...   \n",
       "2022 12    31  19   5       1                       5.7         1151.00   \n",
       "               20   5       1                       3.6         1332.00   \n",
       "               21   5       1                       2.2         1563.10   \n",
       "               22   5       1                       1.7         1725.00   \n",
       "               23   5       1                       1.6         2104.55   \n",
       "\n",
       "                                     Pumping Turbine  Nuclear  \n",
       "year month day hour weekday weekend                            \n",
       "2015 1     1   0    3       0                    NaN  7105.00  \n",
       "               1    3       0                    NaN  7104.00  \n",
       "               2    3       0                    NaN  7104.00  \n",
       "               3    3       0                    NaN  7104.00  \n",
       "               4    3       0                    NaN  7104.00  \n",
       "...                                              ...      ...  \n",
       "2022 12    31  19   5       1              2240.8000  6454.00  \n",
       "               20   5       1              1888.5875  6456.75  \n",
       "               21   5       1              1163.3750  6452.30  \n",
       "               22   5       1               689.6000  6457.75  \n",
       "               23   5       1               240.9125  6415.45  \n",
       "\n",
       "[70128 rows x 19 columns]"
      ]
     },
     "execution_count": null,
     "metadata": {},
     "output_type": "execute_result"
    }
   ],
   "source": []
  },
  {
   "cell_type": "markdown",
   "metadata": {},
   "source": [
    "## Parameters"
   ]
  },
  {
   "cell_type": "code",
   "execution_count": null,
   "metadata": {},
   "outputs": [],
   "source": []
  },
  {
   "cell_type": "markdown",
   "metadata": {},
   "source": [
    "## Filter"
   ]
  },
  {
   "cell_type": "code",
   "execution_count": null,
   "metadata": {},
   "outputs": [
    {
     "data": {
      "text/html": [
       "<div>\n",
       "<style scoped>\n",
       "    .dataframe tbody tr th:only-of-type {\n",
       "        vertical-align: middle;\n",
       "    }\n",
       "\n",
       "    .dataframe tbody tr th {\n",
       "        vertical-align: top;\n",
       "    }\n",
       "\n",
       "    .dataframe thead th {\n",
       "        text-align: right;\n",
       "    }\n",
       "</style>\n",
       "<table border=\"1\" class=\"dataframe\">\n",
       "  <thead>\n",
       "    <tr style=\"text-align: right;\">\n",
       "      <th></th>\n",
       "      <th></th>\n",
       "      <th></th>\n",
       "      <th></th>\n",
       "      <th></th>\n",
       "      <th>Solar Photovoltaic</th>\n",
       "      <th>Combined Cycle</th>\n",
       "      <th>Wind</th>\n",
       "    </tr>\n",
       "    <tr>\n",
       "      <th>month</th>\n",
       "      <th>day</th>\n",
       "      <th>hour</th>\n",
       "      <th>weekday</th>\n",
       "      <th>weekend</th>\n",
       "      <th></th>\n",
       "      <th></th>\n",
       "      <th></th>\n",
       "    </tr>\n",
       "  </thead>\n",
       "  <tbody>\n",
       "    <tr>\n",
       "      <th rowspan=\"5\" valign=\"top\">1</th>\n",
       "      <th rowspan=\"5\" valign=\"top\">1</th>\n",
       "      <th>0</th>\n",
       "      <th>5</th>\n",
       "      <th>1</th>\n",
       "      <td>7.1</td>\n",
       "      <td>1885.40</td>\n",
       "      <td>6380.800</td>\n",
       "    </tr>\n",
       "    <tr>\n",
       "      <th>1</th>\n",
       "      <th>5</th>\n",
       "      <th>1</th>\n",
       "      <td>19.1</td>\n",
       "      <td>1948.80</td>\n",
       "      <td>6563.300</td>\n",
       "    </tr>\n",
       "    <tr>\n",
       "      <th>2</th>\n",
       "      <th>5</th>\n",
       "      <th>1</th>\n",
       "      <td>0.1</td>\n",
       "      <td>1937.90</td>\n",
       "      <td>6479.100</td>\n",
       "    </tr>\n",
       "    <tr>\n",
       "      <th>3</th>\n",
       "      <th>5</th>\n",
       "      <th>1</th>\n",
       "      <td>0.1</td>\n",
       "      <td>1785.80</td>\n",
       "      <td>6350.900</td>\n",
       "    </tr>\n",
       "    <tr>\n",
       "      <th>4</th>\n",
       "      <th>5</th>\n",
       "      <th>1</th>\n",
       "      <td>0.1</td>\n",
       "      <td>1785.60</td>\n",
       "      <td>6071.000</td>\n",
       "    </tr>\n",
       "    <tr>\n",
       "      <th>...</th>\n",
       "      <th>...</th>\n",
       "      <th>...</th>\n",
       "      <th>...</th>\n",
       "      <th>...</th>\n",
       "      <td>...</td>\n",
       "      <td>...</td>\n",
       "      <td>...</td>\n",
       "    </tr>\n",
       "    <tr>\n",
       "      <th rowspan=\"5\" valign=\"top\">12</th>\n",
       "      <th rowspan=\"5\" valign=\"top\">31</th>\n",
       "      <th>19</th>\n",
       "      <th>5</th>\n",
       "      <th>1</th>\n",
       "      <td>5.7</td>\n",
       "      <td>1151.00</td>\n",
       "      <td>10060.700</td>\n",
       "    </tr>\n",
       "    <tr>\n",
       "      <th>20</th>\n",
       "      <th>5</th>\n",
       "      <th>1</th>\n",
       "      <td>3.6</td>\n",
       "      <td>1332.00</td>\n",
       "      <td>9969.200</td>\n",
       "    </tr>\n",
       "    <tr>\n",
       "      <th>21</th>\n",
       "      <th>5</th>\n",
       "      <th>1</th>\n",
       "      <td>2.2</td>\n",
       "      <td>1563.10</td>\n",
       "      <td>9306.725</td>\n",
       "    </tr>\n",
       "    <tr>\n",
       "      <th>22</th>\n",
       "      <th>5</th>\n",
       "      <th>1</th>\n",
       "      <td>1.7</td>\n",
       "      <td>1725.00</td>\n",
       "      <td>8871.225</td>\n",
       "    </tr>\n",
       "    <tr>\n",
       "      <th>23</th>\n",
       "      <th>5</th>\n",
       "      <th>1</th>\n",
       "      <td>1.6</td>\n",
       "      <td>2104.55</td>\n",
       "      <td>7506.300</td>\n",
       "    </tr>\n",
       "  </tbody>\n",
       "</table>\n",
       "<p>8760 rows × 3 columns</p>\n",
       "</div>"
      ],
      "text/plain": [
       "                                Solar Photovoltaic  Combined Cycle       Wind\n",
       "month day hour weekday weekend                                               \n",
       "1     1   0    5       1                       7.1         1885.40   6380.800\n",
       "          1    5       1                      19.1         1948.80   6563.300\n",
       "          2    5       1                       0.1         1937.90   6479.100\n",
       "          3    5       1                       0.1         1785.80   6350.900\n",
       "          4    5       1                       0.1         1785.60   6071.000\n",
       "...                                            ...             ...        ...\n",
       "12    31  19   5       1                       5.7         1151.00  10060.700\n",
       "          20   5       1                       3.6         1332.00   9969.200\n",
       "          21   5       1                       2.2         1563.10   9306.725\n",
       "          22   5       1                       1.7         1725.00   8871.225\n",
       "          23   5       1                       1.6         2104.55   7506.300\n",
       "\n",
       "[8760 rows x 3 columns]"
      ]
     },
     "execution_count": null,
     "metadata": {},
     "output_type": "execute_result"
    }
   ],
   "source": []
  },
  {
   "cell_type": "markdown",
   "metadata": {},
   "source": [
    "## Data aggregation"
   ]
  },
  {
   "cell_type": "code",
   "execution_count": null,
   "metadata": {},
   "outputs": [
    {
     "data": {
      "text/html": [
       "<div>\n",
       "<style scoped>\n",
       "    .dataframe tbody tr th:only-of-type {\n",
       "        vertical-align: middle;\n",
       "    }\n",
       "\n",
       "    .dataframe tbody tr th {\n",
       "        vertical-align: top;\n",
       "    }\n",
       "\n",
       "    .dataframe thead th {\n",
       "        text-align: right;\n",
       "    }\n",
       "</style>\n",
       "<table border=\"1\" class=\"dataframe\">\n",
       "  <thead>\n",
       "    <tr style=\"text-align: right;\">\n",
       "      <th></th>\n",
       "      <th>Solar Photovoltaic</th>\n",
       "      <th>Combined Cycle</th>\n",
       "      <th>Wind</th>\n",
       "    </tr>\n",
       "    <tr>\n",
       "      <th>month</th>\n",
       "      <th></th>\n",
       "      <th></th>\n",
       "      <th></th>\n",
       "    </tr>\n",
       "  </thead>\n",
       "  <tbody>\n",
       "    <tr>\n",
       "      <th>1</th>\n",
       "      <td>2008.105142</td>\n",
       "      <td>7071.532392</td>\n",
       "      <td>7188.937903</td>\n",
       "    </tr>\n",
       "    <tr>\n",
       "      <th>2</th>\n",
       "      <td>2453.092411</td>\n",
       "      <td>6173.066071</td>\n",
       "      <td>6915.188542</td>\n",
       "    </tr>\n",
       "    <tr>\n",
       "      <th>3</th>\n",
       "      <td>2051.203235</td>\n",
       "      <td>4453.112248</td>\n",
       "      <td>8690.253970</td>\n",
       "    </tr>\n",
       "    <tr>\n",
       "      <th>4</th>\n",
       "      <td>3438.660972</td>\n",
       "      <td>3637.490556</td>\n",
       "      <td>7859.581111</td>\n",
       "    </tr>\n",
       "    <tr>\n",
       "      <th>5</th>\n",
       "      <td>4343.469669</td>\n",
       "      <td>4188.416876</td>\n",
       "      <td>6267.134804</td>\n",
       "    </tr>\n",
       "    <tr>\n",
       "      <th>6</th>\n",
       "      <td>4350.784206</td>\n",
       "      <td>8289.004750</td>\n",
       "      <td>4997.314782</td>\n",
       "    </tr>\n",
       "    <tr>\n",
       "      <th>7</th>\n",
       "      <td>4466.462917</td>\n",
       "      <td>10754.718728</td>\n",
       "      <td>5832.748815</td>\n",
       "    </tr>\n",
       "    <tr>\n",
       "      <th>8</th>\n",
       "      <td>4289.467875</td>\n",
       "      <td>10282.706987</td>\n",
       "      <td>5177.122058</td>\n",
       "    </tr>\n",
       "    <tr>\n",
       "      <th>9</th>\n",
       "      <td>3661.415528</td>\n",
       "      <td>10060.364213</td>\n",
       "      <td>5636.548242</td>\n",
       "    </tr>\n",
       "    <tr>\n",
       "      <th>10</th>\n",
       "      <td>2760.750161</td>\n",
       "      <td>8833.260579</td>\n",
       "      <td>6731.089740</td>\n",
       "    </tr>\n",
       "    <tr>\n",
       "      <th>11</th>\n",
       "      <td>2133.327069</td>\n",
       "      <td>5872.486438</td>\n",
       "      <td>9246.946589</td>\n",
       "    </tr>\n",
       "    <tr>\n",
       "      <th>12</th>\n",
       "      <td>1581.815902</td>\n",
       "      <td>5125.014039</td>\n",
       "      <td>7622.830462</td>\n",
       "    </tr>\n",
       "  </tbody>\n",
       "</table>\n",
       "</div>"
      ],
      "text/plain": [
       "       Solar Photovoltaic  Combined Cycle         Wind\n",
       "month                                                 \n",
       "1             2008.105142     7071.532392  7188.937903\n",
       "2             2453.092411     6173.066071  6915.188542\n",
       "3             2051.203235     4453.112248  8690.253970\n",
       "4             3438.660972     3637.490556  7859.581111\n",
       "5             4343.469669     4188.416876  6267.134804\n",
       "6             4350.784206     8289.004750  4997.314782\n",
       "7             4466.462917    10754.718728  5832.748815\n",
       "8             4289.467875    10282.706987  5177.122058\n",
       "9             3661.415528    10060.364213  5636.548242\n",
       "10            2760.750161     8833.260579  6731.089740\n",
       "11            2133.327069     5872.486438  9246.946589\n",
       "12            1581.815902     5125.014039  7622.830462"
      ]
     },
     "execution_count": null,
     "metadata": {},
     "output_type": "execute_result"
    }
   ],
   "source": []
  },
  {
   "cell_type": "markdown",
   "metadata": {},
   "source": [
    "## Transform data to long format"
   ]
  },
  {
   "cell_type": "code",
   "execution_count": null,
   "metadata": {},
   "outputs": [
    {
     "data": {
      "text/html": [
       "<div>\n",
       "<style scoped>\n",
       "    .dataframe tbody tr th:only-of-type {\n",
       "        vertical-align: middle;\n",
       "    }\n",
       "\n",
       "    .dataframe tbody tr th {\n",
       "        vertical-align: top;\n",
       "    }\n",
       "\n",
       "    .dataframe thead th {\n",
       "        text-align: right;\n",
       "    }\n",
       "</style>\n",
       "<table border=\"1\" class=\"dataframe\">\n",
       "  <thead>\n",
       "    <tr style=\"text-align: right;\">\n",
       "      <th></th>\n",
       "      <th>month</th>\n",
       "      <th>variable</th>\n",
       "      <th>value</th>\n",
       "    </tr>\n",
       "  </thead>\n",
       "  <tbody>\n",
       "    <tr>\n",
       "      <th>0</th>\n",
       "      <td>1</td>\n",
       "      <td>Solar Photovoltaic</td>\n",
       "      <td>2008.105142</td>\n",
       "    </tr>\n",
       "    <tr>\n",
       "      <th>1</th>\n",
       "      <td>2</td>\n",
       "      <td>Solar Photovoltaic</td>\n",
       "      <td>2453.092411</td>\n",
       "    </tr>\n",
       "    <tr>\n",
       "      <th>2</th>\n",
       "      <td>3</td>\n",
       "      <td>Solar Photovoltaic</td>\n",
       "      <td>2051.203235</td>\n",
       "    </tr>\n",
       "    <tr>\n",
       "      <th>3</th>\n",
       "      <td>4</td>\n",
       "      <td>Solar Photovoltaic</td>\n",
       "      <td>3438.660972</td>\n",
       "    </tr>\n",
       "    <tr>\n",
       "      <th>4</th>\n",
       "      <td>5</td>\n",
       "      <td>Solar Photovoltaic</td>\n",
       "      <td>4343.469669</td>\n",
       "    </tr>\n",
       "    <tr>\n",
       "      <th>5</th>\n",
       "      <td>6</td>\n",
       "      <td>Solar Photovoltaic</td>\n",
       "      <td>4350.784206</td>\n",
       "    </tr>\n",
       "    <tr>\n",
       "      <th>6</th>\n",
       "      <td>7</td>\n",
       "      <td>Solar Photovoltaic</td>\n",
       "      <td>4466.462917</td>\n",
       "    </tr>\n",
       "    <tr>\n",
       "      <th>7</th>\n",
       "      <td>8</td>\n",
       "      <td>Solar Photovoltaic</td>\n",
       "      <td>4289.467875</td>\n",
       "    </tr>\n",
       "    <tr>\n",
       "      <th>8</th>\n",
       "      <td>9</td>\n",
       "      <td>Solar Photovoltaic</td>\n",
       "      <td>3661.415528</td>\n",
       "    </tr>\n",
       "    <tr>\n",
       "      <th>9</th>\n",
       "      <td>10</td>\n",
       "      <td>Solar Photovoltaic</td>\n",
       "      <td>2760.750161</td>\n",
       "    </tr>\n",
       "    <tr>\n",
       "      <th>10</th>\n",
       "      <td>11</td>\n",
       "      <td>Solar Photovoltaic</td>\n",
       "      <td>2133.327069</td>\n",
       "    </tr>\n",
       "    <tr>\n",
       "      <th>11</th>\n",
       "      <td>12</td>\n",
       "      <td>Solar Photovoltaic</td>\n",
       "      <td>1581.815902</td>\n",
       "    </tr>\n",
       "    <tr>\n",
       "      <th>12</th>\n",
       "      <td>1</td>\n",
       "      <td>Combined Cycle</td>\n",
       "      <td>7071.532392</td>\n",
       "    </tr>\n",
       "    <tr>\n",
       "      <th>13</th>\n",
       "      <td>2</td>\n",
       "      <td>Combined Cycle</td>\n",
       "      <td>6173.066071</td>\n",
       "    </tr>\n",
       "    <tr>\n",
       "      <th>14</th>\n",
       "      <td>3</td>\n",
       "      <td>Combined Cycle</td>\n",
       "      <td>4453.112248</td>\n",
       "    </tr>\n",
       "    <tr>\n",
       "      <th>15</th>\n",
       "      <td>4</td>\n",
       "      <td>Combined Cycle</td>\n",
       "      <td>3637.490556</td>\n",
       "    </tr>\n",
       "    <tr>\n",
       "      <th>16</th>\n",
       "      <td>5</td>\n",
       "      <td>Combined Cycle</td>\n",
       "      <td>4188.416876</td>\n",
       "    </tr>\n",
       "    <tr>\n",
       "      <th>17</th>\n",
       "      <td>6</td>\n",
       "      <td>Combined Cycle</td>\n",
       "      <td>8289.004750</td>\n",
       "    </tr>\n",
       "    <tr>\n",
       "      <th>18</th>\n",
       "      <td>7</td>\n",
       "      <td>Combined Cycle</td>\n",
       "      <td>10754.718728</td>\n",
       "    </tr>\n",
       "    <tr>\n",
       "      <th>19</th>\n",
       "      <td>8</td>\n",
       "      <td>Combined Cycle</td>\n",
       "      <td>10282.706987</td>\n",
       "    </tr>\n",
       "    <tr>\n",
       "      <th>20</th>\n",
       "      <td>9</td>\n",
       "      <td>Combined Cycle</td>\n",
       "      <td>10060.364213</td>\n",
       "    </tr>\n",
       "    <tr>\n",
       "      <th>21</th>\n",
       "      <td>10</td>\n",
       "      <td>Combined Cycle</td>\n",
       "      <td>8833.260579</td>\n",
       "    </tr>\n",
       "    <tr>\n",
       "      <th>22</th>\n",
       "      <td>11</td>\n",
       "      <td>Combined Cycle</td>\n",
       "      <td>5872.486438</td>\n",
       "    </tr>\n",
       "    <tr>\n",
       "      <th>23</th>\n",
       "      <td>12</td>\n",
       "      <td>Combined Cycle</td>\n",
       "      <td>5125.014039</td>\n",
       "    </tr>\n",
       "    <tr>\n",
       "      <th>24</th>\n",
       "      <td>1</td>\n",
       "      <td>Wind</td>\n",
       "      <td>7188.937903</td>\n",
       "    </tr>\n",
       "    <tr>\n",
       "      <th>25</th>\n",
       "      <td>2</td>\n",
       "      <td>Wind</td>\n",
       "      <td>6915.188542</td>\n",
       "    </tr>\n",
       "    <tr>\n",
       "      <th>26</th>\n",
       "      <td>3</td>\n",
       "      <td>Wind</td>\n",
       "      <td>8690.253970</td>\n",
       "    </tr>\n",
       "    <tr>\n",
       "      <th>27</th>\n",
       "      <td>4</td>\n",
       "      <td>Wind</td>\n",
       "      <td>7859.581111</td>\n",
       "    </tr>\n",
       "    <tr>\n",
       "      <th>28</th>\n",
       "      <td>5</td>\n",
       "      <td>Wind</td>\n",
       "      <td>6267.134804</td>\n",
       "    </tr>\n",
       "    <tr>\n",
       "      <th>29</th>\n",
       "      <td>6</td>\n",
       "      <td>Wind</td>\n",
       "      <td>4997.314782</td>\n",
       "    </tr>\n",
       "    <tr>\n",
       "      <th>30</th>\n",
       "      <td>7</td>\n",
       "      <td>Wind</td>\n",
       "      <td>5832.748815</td>\n",
       "    </tr>\n",
       "    <tr>\n",
       "      <th>31</th>\n",
       "      <td>8</td>\n",
       "      <td>Wind</td>\n",
       "      <td>5177.122058</td>\n",
       "    </tr>\n",
       "    <tr>\n",
       "      <th>32</th>\n",
       "      <td>9</td>\n",
       "      <td>Wind</td>\n",
       "      <td>5636.548242</td>\n",
       "    </tr>\n",
       "    <tr>\n",
       "      <th>33</th>\n",
       "      <td>10</td>\n",
       "      <td>Wind</td>\n",
       "      <td>6731.089740</td>\n",
       "    </tr>\n",
       "    <tr>\n",
       "      <th>34</th>\n",
       "      <td>11</td>\n",
       "      <td>Wind</td>\n",
       "      <td>9246.946589</td>\n",
       "    </tr>\n",
       "    <tr>\n",
       "      <th>35</th>\n",
       "      <td>12</td>\n",
       "      <td>Wind</td>\n",
       "      <td>7622.830462</td>\n",
       "    </tr>\n",
       "  </tbody>\n",
       "</table>\n",
       "</div>"
      ],
      "text/plain": [
       "    month            variable         value\n",
       "0       1  Solar Photovoltaic   2008.105142\n",
       "1       2  Solar Photovoltaic   2453.092411\n",
       "2       3  Solar Photovoltaic   2051.203235\n",
       "3       4  Solar Photovoltaic   3438.660972\n",
       "4       5  Solar Photovoltaic   4343.469669\n",
       "5       6  Solar Photovoltaic   4350.784206\n",
       "6       7  Solar Photovoltaic   4466.462917\n",
       "7       8  Solar Photovoltaic   4289.467875\n",
       "8       9  Solar Photovoltaic   3661.415528\n",
       "9      10  Solar Photovoltaic   2760.750161\n",
       "10     11  Solar Photovoltaic   2133.327069\n",
       "11     12  Solar Photovoltaic   1581.815902\n",
       "12      1      Combined Cycle   7071.532392\n",
       "13      2      Combined Cycle   6173.066071\n",
       "14      3      Combined Cycle   4453.112248\n",
       "15      4      Combined Cycle   3637.490556\n",
       "16      5      Combined Cycle   4188.416876\n",
       "17      6      Combined Cycle   8289.004750\n",
       "18      7      Combined Cycle  10754.718728\n",
       "19      8      Combined Cycle  10282.706987\n",
       "20      9      Combined Cycle  10060.364213\n",
       "21     10      Combined Cycle   8833.260579\n",
       "22     11      Combined Cycle   5872.486438\n",
       "23     12      Combined Cycle   5125.014039\n",
       "24      1                Wind   7188.937903\n",
       "25      2                Wind   6915.188542\n",
       "26      3                Wind   8690.253970\n",
       "27      4                Wind   7859.581111\n",
       "28      5                Wind   6267.134804\n",
       "29      6                Wind   4997.314782\n",
       "30      7                Wind   5832.748815\n",
       "31      8                Wind   5177.122058\n",
       "32      9                Wind   5636.548242\n",
       "33     10                Wind   6731.089740\n",
       "34     11                Wind   9246.946589\n",
       "35     12                Wind   7622.830462"
      ]
     },
     "execution_count": null,
     "metadata": {},
     "output_type": "execute_result"
    }
   ],
   "source": []
  },
  {
   "cell_type": "markdown",
   "metadata": {},
   "source": [
    "## Data visualization"
   ]
  },
  {
   "cell_type": "code",
   "execution_count": null,
   "metadata": {},
   "outputs": [
    {
     "data": {
      "application/vnd.plotly.v1+json": {
       "config": {
        "plotlyServerURL": "https://plot.ly"
       },
       "data": [
        {
         "alignmentgroup": "True",
         "hovertemplate": "variable=Solar Photovoltaic<br>month=%{x}<br>value=%{y}<extra></extra>",
         "legendgroup": "Solar Photovoltaic",
         "marker": {
          "color": "#636efa",
          "pattern": {
           "shape": ""
          }
         },
         "name": "Solar Photovoltaic",
         "offsetgroup": "Solar Photovoltaic",
         "orientation": "v",
         "showlegend": true,
         "textposition": "auto",
         "type": "bar",
         "x": [
          1,
          2,
          3,
          4,
          5,
          6,
          7,
          8,
          9,
          10,
          11,
          12
         ],
         "xaxis": "x3",
         "y": [
          2008.1051420838971,
          2453.092410714286,
          2051.2032345013477,
          3438.660972222222,
          4343.4696693548385,
          4350.784205555556,
          4466.462916666667,
          4289.467875,
          3661.415527777778,
          2760.7501610738254,
          2133.3270694444445,
          1581.8159018817203
         ],
         "yaxis": "y3"
        },
        {
         "alignmentgroup": "True",
         "hovertemplate": "variable=Combined Cycle<br>month=%{x}<br>value=%{y}<extra></extra>",
         "legendgroup": "Combined Cycle",
         "marker": {
          "color": "#EF553B",
          "pattern": {
           "shape": ""
          }
         },
         "name": "Combined Cycle",
         "offsetgroup": "Combined Cycle",
         "orientation": "v",
         "showlegend": true,
         "textposition": "auto",
         "type": "bar",
         "x": [
          1,
          2,
          3,
          4,
          5,
          6,
          7,
          8,
          9,
          10,
          11,
          12
         ],
         "xaxis": "x2",
         "y": [
          7071.532392473117,
          6173.066071428571,
          4453.1122476446835,
          3637.4905555555556,
          4188.416876344086,
          8289.00475,
          10754.718728494623,
          10282.70698655914,
          10060.3642125,
          8833.26057852349,
          5872.486437500001,
          5125.014038978495
         ],
         "yaxis": "y2"
        },
        {
         "alignmentgroup": "True",
         "hovertemplate": "variable=Wind<br>month=%{x}<br>value=%{y}<extra></extra>",
         "legendgroup": "Wind",
         "marker": {
          "color": "#00cc96",
          "pattern": {
           "shape": ""
          }
         },
         "name": "Wind",
         "offsetgroup": "Wind",
         "orientation": "v",
         "showlegend": true,
         "textposition": "auto",
         "type": "bar",
         "x": [
          1,
          2,
          3,
          4,
          5,
          6,
          7,
          8,
          9,
          10,
          11,
          12
         ],
         "xaxis": "x",
         "y": [
          7188.937903225807,
          6915.188541666667,
          8690.25397039031,
          7859.581111111112,
          6267.134803763441,
          4997.314781944445,
          5832.748814516129,
          5177.122057795698,
          5636.548241666667,
          6731.089739597315,
          9246.946588888888,
          7622.830462365591
         ],
         "yaxis": "y"
        }
       ],
       "layout": {
        "annotations": [
         {
          "font": {},
          "showarrow": false,
          "text": "variable=Wind",
          "textangle": 90,
          "x": 0.98,
          "xanchor": "left",
          "xref": "paper",
          "y": 0.15666666666666665,
          "yanchor": "middle",
          "yref": "paper"
         },
         {
          "font": {},
          "showarrow": false,
          "text": "variable=Combined Cycle",
          "textangle": 90,
          "x": 0.98,
          "xanchor": "left",
          "xref": "paper",
          "y": 0.4999999999999999,
          "yanchor": "middle",
          "yref": "paper"
         },
         {
          "font": {},
          "showarrow": false,
          "text": "variable=Solar Photovoltaic",
          "textangle": 90,
          "x": 0.98,
          "xanchor": "left",
          "xref": "paper",
          "y": 0.8433333333333332,
          "yanchor": "middle",
          "yref": "paper"
         }
        ],
        "barmode": "relative",
        "legend": {
         "title": {
          "text": "variable"
         },
         "tracegroupgap": 0
        },
        "margin": {
         "t": 60
        },
        "template": {
         "data": {
          "bar": [
           {
            "error_x": {
             "color": "#2a3f5f"
            },
            "error_y": {
             "color": "#2a3f5f"
            },
            "marker": {
             "line": {
              "color": "#E5ECF6",
              "width": 0.5
             },
             "pattern": {
              "fillmode": "overlay",
              "size": 10,
              "solidity": 0.2
             }
            },
            "type": "bar"
           }
          ],
          "barpolar": [
           {
            "marker": {
             "line": {
              "color": "#E5ECF6",
              "width": 0.5
             },
             "pattern": {
              "fillmode": "overlay",
              "size": 10,
              "solidity": 0.2
             }
            },
            "type": "barpolar"
           }
          ],
          "carpet": [
           {
            "aaxis": {
             "endlinecolor": "#2a3f5f",
             "gridcolor": "white",
             "linecolor": "white",
             "minorgridcolor": "white",
             "startlinecolor": "#2a3f5f"
            },
            "baxis": {
             "endlinecolor": "#2a3f5f",
             "gridcolor": "white",
             "linecolor": "white",
             "minorgridcolor": "white",
             "startlinecolor": "#2a3f5f"
            },
            "type": "carpet"
           }
          ],
          "choropleth": [
           {
            "colorbar": {
             "outlinewidth": 0,
             "ticks": ""
            },
            "type": "choropleth"
           }
          ],
          "contour": [
           {
            "colorbar": {
             "outlinewidth": 0,
             "ticks": ""
            },
            "colorscale": [
             [
              0,
              "#0d0887"
             ],
             [
              0.1111111111111111,
              "#46039f"
             ],
             [
              0.2222222222222222,
              "#7201a8"
             ],
             [
              0.3333333333333333,
              "#9c179e"
             ],
             [
              0.4444444444444444,
              "#bd3786"
             ],
             [
              0.5555555555555556,
              "#d8576b"
             ],
             [
              0.6666666666666666,
              "#ed7953"
             ],
             [
              0.7777777777777778,
              "#fb9f3a"
             ],
             [
              0.8888888888888888,
              "#fdca26"
             ],
             [
              1,
              "#f0f921"
             ]
            ],
            "type": "contour"
           }
          ],
          "contourcarpet": [
           {
            "colorbar": {
             "outlinewidth": 0,
             "ticks": ""
            },
            "type": "contourcarpet"
           }
          ],
          "heatmap": [
           {
            "colorbar": {
             "outlinewidth": 0,
             "ticks": ""
            },
            "colorscale": [
             [
              0,
              "#0d0887"
             ],
             [
              0.1111111111111111,
              "#46039f"
             ],
             [
              0.2222222222222222,
              "#7201a8"
             ],
             [
              0.3333333333333333,
              "#9c179e"
             ],
             [
              0.4444444444444444,
              "#bd3786"
             ],
             [
              0.5555555555555556,
              "#d8576b"
             ],
             [
              0.6666666666666666,
              "#ed7953"
             ],
             [
              0.7777777777777778,
              "#fb9f3a"
             ],
             [
              0.8888888888888888,
              "#fdca26"
             ],
             [
              1,
              "#f0f921"
             ]
            ],
            "type": "heatmap"
           }
          ],
          "heatmapgl": [
           {
            "colorbar": {
             "outlinewidth": 0,
             "ticks": ""
            },
            "colorscale": [
             [
              0,
              "#0d0887"
             ],
             [
              0.1111111111111111,
              "#46039f"
             ],
             [
              0.2222222222222222,
              "#7201a8"
             ],
             [
              0.3333333333333333,
              "#9c179e"
             ],
             [
              0.4444444444444444,
              "#bd3786"
             ],
             [
              0.5555555555555556,
              "#d8576b"
             ],
             [
              0.6666666666666666,
              "#ed7953"
             ],
             [
              0.7777777777777778,
              "#fb9f3a"
             ],
             [
              0.8888888888888888,
              "#fdca26"
             ],
             [
              1,
              "#f0f921"
             ]
            ],
            "type": "heatmapgl"
           }
          ],
          "histogram": [
           {
            "marker": {
             "pattern": {
              "fillmode": "overlay",
              "size": 10,
              "solidity": 0.2
             }
            },
            "type": "histogram"
           }
          ],
          "histogram2d": [
           {
            "colorbar": {
             "outlinewidth": 0,
             "ticks": ""
            },
            "colorscale": [
             [
              0,
              "#0d0887"
             ],
             [
              0.1111111111111111,
              "#46039f"
             ],
             [
              0.2222222222222222,
              "#7201a8"
             ],
             [
              0.3333333333333333,
              "#9c179e"
             ],
             [
              0.4444444444444444,
              "#bd3786"
             ],
             [
              0.5555555555555556,
              "#d8576b"
             ],
             [
              0.6666666666666666,
              "#ed7953"
             ],
             [
              0.7777777777777778,
              "#fb9f3a"
             ],
             [
              0.8888888888888888,
              "#fdca26"
             ],
             [
              1,
              "#f0f921"
             ]
            ],
            "type": "histogram2d"
           }
          ],
          "histogram2dcontour": [
           {
            "colorbar": {
             "outlinewidth": 0,
             "ticks": ""
            },
            "colorscale": [
             [
              0,
              "#0d0887"
             ],
             [
              0.1111111111111111,
              "#46039f"
             ],
             [
              0.2222222222222222,
              "#7201a8"
             ],
             [
              0.3333333333333333,
              "#9c179e"
             ],
             [
              0.4444444444444444,
              "#bd3786"
             ],
             [
              0.5555555555555556,
              "#d8576b"
             ],
             [
              0.6666666666666666,
              "#ed7953"
             ],
             [
              0.7777777777777778,
              "#fb9f3a"
             ],
             [
              0.8888888888888888,
              "#fdca26"
             ],
             [
              1,
              "#f0f921"
             ]
            ],
            "type": "histogram2dcontour"
           }
          ],
          "mesh3d": [
           {
            "colorbar": {
             "outlinewidth": 0,
             "ticks": ""
            },
            "type": "mesh3d"
           }
          ],
          "parcoords": [
           {
            "line": {
             "colorbar": {
              "outlinewidth": 0,
              "ticks": ""
             }
            },
            "type": "parcoords"
           }
          ],
          "pie": [
           {
            "automargin": true,
            "type": "pie"
           }
          ],
          "scatter": [
           {
            "fillpattern": {
             "fillmode": "overlay",
             "size": 10,
             "solidity": 0.2
            },
            "type": "scatter"
           }
          ],
          "scatter3d": [
           {
            "line": {
             "colorbar": {
              "outlinewidth": 0,
              "ticks": ""
             }
            },
            "marker": {
             "colorbar": {
              "outlinewidth": 0,
              "ticks": ""
             }
            },
            "type": "scatter3d"
           }
          ],
          "scattercarpet": [
           {
            "marker": {
             "colorbar": {
              "outlinewidth": 0,
              "ticks": ""
             }
            },
            "type": "scattercarpet"
           }
          ],
          "scattergeo": [
           {
            "marker": {
             "colorbar": {
              "outlinewidth": 0,
              "ticks": ""
             }
            },
            "type": "scattergeo"
           }
          ],
          "scattergl": [
           {
            "marker": {
             "colorbar": {
              "outlinewidth": 0,
              "ticks": ""
             }
            },
            "type": "scattergl"
           }
          ],
          "scattermapbox": [
           {
            "marker": {
             "colorbar": {
              "outlinewidth": 0,
              "ticks": ""
             }
            },
            "type": "scattermapbox"
           }
          ],
          "scatterpolar": [
           {
            "marker": {
             "colorbar": {
              "outlinewidth": 0,
              "ticks": ""
             }
            },
            "type": "scatterpolar"
           }
          ],
          "scatterpolargl": [
           {
            "marker": {
             "colorbar": {
              "outlinewidth": 0,
              "ticks": ""
             }
            },
            "type": "scatterpolargl"
           }
          ],
          "scatterternary": [
           {
            "marker": {
             "colorbar": {
              "outlinewidth": 0,
              "ticks": ""
             }
            },
            "type": "scatterternary"
           }
          ],
          "surface": [
           {
            "colorbar": {
             "outlinewidth": 0,
             "ticks": ""
            },
            "colorscale": [
             [
              0,
              "#0d0887"
             ],
             [
              0.1111111111111111,
              "#46039f"
             ],
             [
              0.2222222222222222,
              "#7201a8"
             ],
             [
              0.3333333333333333,
              "#9c179e"
             ],
             [
              0.4444444444444444,
              "#bd3786"
             ],
             [
              0.5555555555555556,
              "#d8576b"
             ],
             [
              0.6666666666666666,
              "#ed7953"
             ],
             [
              0.7777777777777778,
              "#fb9f3a"
             ],
             [
              0.8888888888888888,
              "#fdca26"
             ],
             [
              1,
              "#f0f921"
             ]
            ],
            "type": "surface"
           }
          ],
          "table": [
           {
            "cells": {
             "fill": {
              "color": "#EBF0F8"
             },
             "line": {
              "color": "white"
             }
            },
            "header": {
             "fill": {
              "color": "#C8D4E3"
             },
             "line": {
              "color": "white"
             }
            },
            "type": "table"
           }
          ]
         },
         "layout": {
          "annotationdefaults": {
           "arrowcolor": "#2a3f5f",
           "arrowhead": 0,
           "arrowwidth": 1
          },
          "autotypenumbers": "strict",
          "coloraxis": {
           "colorbar": {
            "outlinewidth": 0,
            "ticks": ""
           }
          },
          "colorscale": {
           "diverging": [
            [
             0,
             "#8e0152"
            ],
            [
             0.1,
             "#c51b7d"
            ],
            [
             0.2,
             "#de77ae"
            ],
            [
             0.3,
             "#f1b6da"
            ],
            [
             0.4,
             "#fde0ef"
            ],
            [
             0.5,
             "#f7f7f7"
            ],
            [
             0.6,
             "#e6f5d0"
            ],
            [
             0.7,
             "#b8e186"
            ],
            [
             0.8,
             "#7fbc41"
            ],
            [
             0.9,
             "#4d9221"
            ],
            [
             1,
             "#276419"
            ]
           ],
           "sequential": [
            [
             0,
             "#0d0887"
            ],
            [
             0.1111111111111111,
             "#46039f"
            ],
            [
             0.2222222222222222,
             "#7201a8"
            ],
            [
             0.3333333333333333,
             "#9c179e"
            ],
            [
             0.4444444444444444,
             "#bd3786"
            ],
            [
             0.5555555555555556,
             "#d8576b"
            ],
            [
             0.6666666666666666,
             "#ed7953"
            ],
            [
             0.7777777777777778,
             "#fb9f3a"
            ],
            [
             0.8888888888888888,
             "#fdca26"
            ],
            [
             1,
             "#f0f921"
            ]
           ],
           "sequentialminus": [
            [
             0,
             "#0d0887"
            ],
            [
             0.1111111111111111,
             "#46039f"
            ],
            [
             0.2222222222222222,
             "#7201a8"
            ],
            [
             0.3333333333333333,
             "#9c179e"
            ],
            [
             0.4444444444444444,
             "#bd3786"
            ],
            [
             0.5555555555555556,
             "#d8576b"
            ],
            [
             0.6666666666666666,
             "#ed7953"
            ],
            [
             0.7777777777777778,
             "#fb9f3a"
            ],
            [
             0.8888888888888888,
             "#fdca26"
            ],
            [
             1,
             "#f0f921"
            ]
           ]
          },
          "colorway": [
           "#636efa",
           "#EF553B",
           "#00cc96",
           "#ab63fa",
           "#FFA15A",
           "#19d3f3",
           "#FF6692",
           "#B6E880",
           "#FF97FF",
           "#FECB52"
          ],
          "font": {
           "color": "#2a3f5f"
          },
          "geo": {
           "bgcolor": "white",
           "lakecolor": "white",
           "landcolor": "#E5ECF6",
           "showlakes": true,
           "showland": true,
           "subunitcolor": "white"
          },
          "hoverlabel": {
           "align": "left"
          },
          "hovermode": "closest",
          "mapbox": {
           "style": "light"
          },
          "paper_bgcolor": "white",
          "plot_bgcolor": "#E5ECF6",
          "polar": {
           "angularaxis": {
            "gridcolor": "white",
            "linecolor": "white",
            "ticks": ""
           },
           "bgcolor": "#E5ECF6",
           "radialaxis": {
            "gridcolor": "white",
            "linecolor": "white",
            "ticks": ""
           }
          },
          "scene": {
           "xaxis": {
            "backgroundcolor": "#E5ECF6",
            "gridcolor": "white",
            "gridwidth": 2,
            "linecolor": "white",
            "showbackground": true,
            "ticks": "",
            "zerolinecolor": "white"
           },
           "yaxis": {
            "backgroundcolor": "#E5ECF6",
            "gridcolor": "white",
            "gridwidth": 2,
            "linecolor": "white",
            "showbackground": true,
            "ticks": "",
            "zerolinecolor": "white"
           },
           "zaxis": {
            "backgroundcolor": "#E5ECF6",
            "gridcolor": "white",
            "gridwidth": 2,
            "linecolor": "white",
            "showbackground": true,
            "ticks": "",
            "zerolinecolor": "white"
           }
          },
          "shapedefaults": {
           "line": {
            "color": "#2a3f5f"
           }
          },
          "ternary": {
           "aaxis": {
            "gridcolor": "white",
            "linecolor": "white",
            "ticks": ""
           },
           "baxis": {
            "gridcolor": "white",
            "linecolor": "white",
            "ticks": ""
           },
           "bgcolor": "#E5ECF6",
           "caxis": {
            "gridcolor": "white",
            "linecolor": "white",
            "ticks": ""
           }
          },
          "title": {
           "x": 0.05
          },
          "xaxis": {
           "automargin": true,
           "gridcolor": "white",
           "linecolor": "white",
           "ticks": "",
           "title": {
            "standoff": 15
           },
           "zerolinecolor": "white",
           "zerolinewidth": 2
          },
          "yaxis": {
           "automargin": true,
           "gridcolor": "white",
           "linecolor": "white",
           "ticks": "",
           "title": {
            "standoff": 15
           },
           "zerolinecolor": "white",
           "zerolinewidth": 2
          }
         }
        },
        "xaxis": {
         "anchor": "y",
         "domain": [
          0,
          0.98
         ],
         "title": {
          "text": "month"
         }
        },
        "xaxis2": {
         "anchor": "y2",
         "domain": [
          0,
          0.98
         ],
         "matches": "x",
         "showticklabels": false
        },
        "xaxis3": {
         "anchor": "y3",
         "domain": [
          0,
          0.98
         ],
         "matches": "x",
         "showticklabels": false
        },
        "yaxis": {
         "anchor": "x",
         "domain": [
          0,
          0.3133333333333333
         ],
         "title": {
          "text": "value"
         }
        },
        "yaxis2": {
         "anchor": "x2",
         "domain": [
          0.34333333333333327,
          0.6566666666666665
         ],
         "matches": "y",
         "title": {
          "text": "value"
         }
        },
        "yaxis3": {
         "anchor": "x3",
         "domain": [
          0.6866666666666665,
          0.9999999999999998
         ],
         "matches": "y",
         "title": {
          "text": "value"
         }
        }
       }
      },
      "text/html": [
       "<div>                            <div id=\"d39d74d5-df51-4bb2-881b-57f45810aaab\" class=\"plotly-graph-div\" style=\"height:525px; width:100%;\"></div>            <script type=\"text/javascript\">                require([\"plotly\"], function(Plotly) {                    window.PLOTLYENV=window.PLOTLYENV || {};                                    if (document.getElementById(\"d39d74d5-df51-4bb2-881b-57f45810aaab\")) {                    Plotly.newPlot(                        \"d39d74d5-df51-4bb2-881b-57f45810aaab\",                        [{\"alignmentgroup\":\"True\",\"hovertemplate\":\"variable=Solar Photovoltaic\\u003cbr\\u003emonth=%{x}\\u003cbr\\u003evalue=%{y}\\u003cextra\\u003e\\u003c\\u002fextra\\u003e\",\"legendgroup\":\"Solar Photovoltaic\",\"marker\":{\"color\":\"#636efa\",\"pattern\":{\"shape\":\"\"}},\"name\":\"Solar Photovoltaic\",\"offsetgroup\":\"Solar Photovoltaic\",\"orientation\":\"v\",\"showlegend\":true,\"textposition\":\"auto\",\"x\":[1,2,3,4,5,6,7,8,9,10,11,12],\"xaxis\":\"x3\",\"y\":[2008.1051420838971,2453.092410714286,2051.2032345013477,3438.660972222222,4343.4696693548385,4350.784205555556,4466.462916666667,4289.467875,3661.415527777778,2760.7501610738254,2133.3270694444445,1581.8159018817203],\"yaxis\":\"y3\",\"type\":\"bar\"},{\"alignmentgroup\":\"True\",\"hovertemplate\":\"variable=Combined Cycle\\u003cbr\\u003emonth=%{x}\\u003cbr\\u003evalue=%{y}\\u003cextra\\u003e\\u003c\\u002fextra\\u003e\",\"legendgroup\":\"Combined Cycle\",\"marker\":{\"color\":\"#EF553B\",\"pattern\":{\"shape\":\"\"}},\"name\":\"Combined Cycle\",\"offsetgroup\":\"Combined Cycle\",\"orientation\":\"v\",\"showlegend\":true,\"textposition\":\"auto\",\"x\":[1,2,3,4,5,6,7,8,9,10,11,12],\"xaxis\":\"x2\",\"y\":[7071.532392473117,6173.066071428571,4453.1122476446835,3637.4905555555556,4188.416876344086,8289.00475,10754.718728494623,10282.70698655914,10060.3642125,8833.26057852349,5872.486437500001,5125.014038978495],\"yaxis\":\"y2\",\"type\":\"bar\"},{\"alignmentgroup\":\"True\",\"hovertemplate\":\"variable=Wind\\u003cbr\\u003emonth=%{x}\\u003cbr\\u003evalue=%{y}\\u003cextra\\u003e\\u003c\\u002fextra\\u003e\",\"legendgroup\":\"Wind\",\"marker\":{\"color\":\"#00cc96\",\"pattern\":{\"shape\":\"\"}},\"name\":\"Wind\",\"offsetgroup\":\"Wind\",\"orientation\":\"v\",\"showlegend\":true,\"textposition\":\"auto\",\"x\":[1,2,3,4,5,6,7,8,9,10,11,12],\"xaxis\":\"x\",\"y\":[7188.937903225807,6915.188541666667,8690.25397039031,7859.581111111112,6267.134803763441,4997.314781944445,5832.748814516129,5177.122057795698,5636.548241666667,6731.089739597315,9246.946588888888,7622.830462365591],\"yaxis\":\"y\",\"type\":\"bar\"}],                        {\"template\":{\"data\":{\"histogram2dcontour\":[{\"type\":\"histogram2dcontour\",\"colorbar\":{\"outlinewidth\":0,\"ticks\":\"\"},\"colorscale\":[[0.0,\"#0d0887\"],[0.1111111111111111,\"#46039f\"],[0.2222222222222222,\"#7201a8\"],[0.3333333333333333,\"#9c179e\"],[0.4444444444444444,\"#bd3786\"],[0.5555555555555556,\"#d8576b\"],[0.6666666666666666,\"#ed7953\"],[0.7777777777777778,\"#fb9f3a\"],[0.8888888888888888,\"#fdca26\"],[1.0,\"#f0f921\"]]}],\"choropleth\":[{\"type\":\"choropleth\",\"colorbar\":{\"outlinewidth\":0,\"ticks\":\"\"}}],\"histogram2d\":[{\"type\":\"histogram2d\",\"colorbar\":{\"outlinewidth\":0,\"ticks\":\"\"},\"colorscale\":[[0.0,\"#0d0887\"],[0.1111111111111111,\"#46039f\"],[0.2222222222222222,\"#7201a8\"],[0.3333333333333333,\"#9c179e\"],[0.4444444444444444,\"#bd3786\"],[0.5555555555555556,\"#d8576b\"],[0.6666666666666666,\"#ed7953\"],[0.7777777777777778,\"#fb9f3a\"],[0.8888888888888888,\"#fdca26\"],[1.0,\"#f0f921\"]]}],\"heatmap\":[{\"type\":\"heatmap\",\"colorbar\":{\"outlinewidth\":0,\"ticks\":\"\"},\"colorscale\":[[0.0,\"#0d0887\"],[0.1111111111111111,\"#46039f\"],[0.2222222222222222,\"#7201a8\"],[0.3333333333333333,\"#9c179e\"],[0.4444444444444444,\"#bd3786\"],[0.5555555555555556,\"#d8576b\"],[0.6666666666666666,\"#ed7953\"],[0.7777777777777778,\"#fb9f3a\"],[0.8888888888888888,\"#fdca26\"],[1.0,\"#f0f921\"]]}],\"heatmapgl\":[{\"type\":\"heatmapgl\",\"colorbar\":{\"outlinewidth\":0,\"ticks\":\"\"},\"colorscale\":[[0.0,\"#0d0887\"],[0.1111111111111111,\"#46039f\"],[0.2222222222222222,\"#7201a8\"],[0.3333333333333333,\"#9c179e\"],[0.4444444444444444,\"#bd3786\"],[0.5555555555555556,\"#d8576b\"],[0.6666666666666666,\"#ed7953\"],[0.7777777777777778,\"#fb9f3a\"],[0.8888888888888888,\"#fdca26\"],[1.0,\"#f0f921\"]]}],\"contourcarpet\":[{\"type\":\"contourcarpet\",\"colorbar\":{\"outlinewidth\":0,\"ticks\":\"\"}}],\"contour\":[{\"type\":\"contour\",\"colorbar\":{\"outlinewidth\":0,\"ticks\":\"\"},\"colorscale\":[[0.0,\"#0d0887\"],[0.1111111111111111,\"#46039f\"],[0.2222222222222222,\"#7201a8\"],[0.3333333333333333,\"#9c179e\"],[0.4444444444444444,\"#bd3786\"],[0.5555555555555556,\"#d8576b\"],[0.6666666666666666,\"#ed7953\"],[0.7777777777777778,\"#fb9f3a\"],[0.8888888888888888,\"#fdca26\"],[1.0,\"#f0f921\"]]}],\"surface\":[{\"type\":\"surface\",\"colorbar\":{\"outlinewidth\":0,\"ticks\":\"\"},\"colorscale\":[[0.0,\"#0d0887\"],[0.1111111111111111,\"#46039f\"],[0.2222222222222222,\"#7201a8\"],[0.3333333333333333,\"#9c179e\"],[0.4444444444444444,\"#bd3786\"],[0.5555555555555556,\"#d8576b\"],[0.6666666666666666,\"#ed7953\"],[0.7777777777777778,\"#fb9f3a\"],[0.8888888888888888,\"#fdca26\"],[1.0,\"#f0f921\"]]}],\"mesh3d\":[{\"type\":\"mesh3d\",\"colorbar\":{\"outlinewidth\":0,\"ticks\":\"\"}}],\"scatter\":[{\"fillpattern\":{\"fillmode\":\"overlay\",\"size\":10,\"solidity\":0.2},\"type\":\"scatter\"}],\"parcoords\":[{\"type\":\"parcoords\",\"line\":{\"colorbar\":{\"outlinewidth\":0,\"ticks\":\"\"}}}],\"scatterpolargl\":[{\"type\":\"scatterpolargl\",\"marker\":{\"colorbar\":{\"outlinewidth\":0,\"ticks\":\"\"}}}],\"bar\":[{\"error_x\":{\"color\":\"#2a3f5f\"},\"error_y\":{\"color\":\"#2a3f5f\"},\"marker\":{\"line\":{\"color\":\"#E5ECF6\",\"width\":0.5},\"pattern\":{\"fillmode\":\"overlay\",\"size\":10,\"solidity\":0.2}},\"type\":\"bar\"}],\"scattergeo\":[{\"type\":\"scattergeo\",\"marker\":{\"colorbar\":{\"outlinewidth\":0,\"ticks\":\"\"}}}],\"scatterpolar\":[{\"type\":\"scatterpolar\",\"marker\":{\"colorbar\":{\"outlinewidth\":0,\"ticks\":\"\"}}}],\"histogram\":[{\"marker\":{\"pattern\":{\"fillmode\":\"overlay\",\"size\":10,\"solidity\":0.2}},\"type\":\"histogram\"}],\"scattergl\":[{\"type\":\"scattergl\",\"marker\":{\"colorbar\":{\"outlinewidth\":0,\"ticks\":\"\"}}}],\"scatter3d\":[{\"type\":\"scatter3d\",\"line\":{\"colorbar\":{\"outlinewidth\":0,\"ticks\":\"\"}},\"marker\":{\"colorbar\":{\"outlinewidth\":0,\"ticks\":\"\"}}}],\"scattermapbox\":[{\"type\":\"scattermapbox\",\"marker\":{\"colorbar\":{\"outlinewidth\":0,\"ticks\":\"\"}}}],\"scatterternary\":[{\"type\":\"scatterternary\",\"marker\":{\"colorbar\":{\"outlinewidth\":0,\"ticks\":\"\"}}}],\"scattercarpet\":[{\"type\":\"scattercarpet\",\"marker\":{\"colorbar\":{\"outlinewidth\":0,\"ticks\":\"\"}}}],\"carpet\":[{\"aaxis\":{\"endlinecolor\":\"#2a3f5f\",\"gridcolor\":\"white\",\"linecolor\":\"white\",\"minorgridcolor\":\"white\",\"startlinecolor\":\"#2a3f5f\"},\"baxis\":{\"endlinecolor\":\"#2a3f5f\",\"gridcolor\":\"white\",\"linecolor\":\"white\",\"minorgridcolor\":\"white\",\"startlinecolor\":\"#2a3f5f\"},\"type\":\"carpet\"}],\"table\":[{\"cells\":{\"fill\":{\"color\":\"#EBF0F8\"},\"line\":{\"color\":\"white\"}},\"header\":{\"fill\":{\"color\":\"#C8D4E3\"},\"line\":{\"color\":\"white\"}},\"type\":\"table\"}],\"barpolar\":[{\"marker\":{\"line\":{\"color\":\"#E5ECF6\",\"width\":0.5},\"pattern\":{\"fillmode\":\"overlay\",\"size\":10,\"solidity\":0.2}},\"type\":\"barpolar\"}],\"pie\":[{\"automargin\":true,\"type\":\"pie\"}]},\"layout\":{\"autotypenumbers\":\"strict\",\"colorway\":[\"#636efa\",\"#EF553B\",\"#00cc96\",\"#ab63fa\",\"#FFA15A\",\"#19d3f3\",\"#FF6692\",\"#B6E880\",\"#FF97FF\",\"#FECB52\"],\"font\":{\"color\":\"#2a3f5f\"},\"hovermode\":\"closest\",\"hoverlabel\":{\"align\":\"left\"},\"paper_bgcolor\":\"white\",\"plot_bgcolor\":\"#E5ECF6\",\"polar\":{\"bgcolor\":\"#E5ECF6\",\"angularaxis\":{\"gridcolor\":\"white\",\"linecolor\":\"white\",\"ticks\":\"\"},\"radialaxis\":{\"gridcolor\":\"white\",\"linecolor\":\"white\",\"ticks\":\"\"}},\"ternary\":{\"bgcolor\":\"#E5ECF6\",\"aaxis\":{\"gridcolor\":\"white\",\"linecolor\":\"white\",\"ticks\":\"\"},\"baxis\":{\"gridcolor\":\"white\",\"linecolor\":\"white\",\"ticks\":\"\"},\"caxis\":{\"gridcolor\":\"white\",\"linecolor\":\"white\",\"ticks\":\"\"}},\"coloraxis\":{\"colorbar\":{\"outlinewidth\":0,\"ticks\":\"\"}},\"colorscale\":{\"sequential\":[[0.0,\"#0d0887\"],[0.1111111111111111,\"#46039f\"],[0.2222222222222222,\"#7201a8\"],[0.3333333333333333,\"#9c179e\"],[0.4444444444444444,\"#bd3786\"],[0.5555555555555556,\"#d8576b\"],[0.6666666666666666,\"#ed7953\"],[0.7777777777777778,\"#fb9f3a\"],[0.8888888888888888,\"#fdca26\"],[1.0,\"#f0f921\"]],\"sequentialminus\":[[0.0,\"#0d0887\"],[0.1111111111111111,\"#46039f\"],[0.2222222222222222,\"#7201a8\"],[0.3333333333333333,\"#9c179e\"],[0.4444444444444444,\"#bd3786\"],[0.5555555555555556,\"#d8576b\"],[0.6666666666666666,\"#ed7953\"],[0.7777777777777778,\"#fb9f3a\"],[0.8888888888888888,\"#fdca26\"],[1.0,\"#f0f921\"]],\"diverging\":[[0,\"#8e0152\"],[0.1,\"#c51b7d\"],[0.2,\"#de77ae\"],[0.3,\"#f1b6da\"],[0.4,\"#fde0ef\"],[0.5,\"#f7f7f7\"],[0.6,\"#e6f5d0\"],[0.7,\"#b8e186\"],[0.8,\"#7fbc41\"],[0.9,\"#4d9221\"],[1,\"#276419\"]]},\"xaxis\":{\"gridcolor\":\"white\",\"linecolor\":\"white\",\"ticks\":\"\",\"title\":{\"standoff\":15},\"zerolinecolor\":\"white\",\"automargin\":true,\"zerolinewidth\":2},\"yaxis\":{\"gridcolor\":\"white\",\"linecolor\":\"white\",\"ticks\":\"\",\"title\":{\"standoff\":15},\"zerolinecolor\":\"white\",\"automargin\":true,\"zerolinewidth\":2},\"scene\":{\"xaxis\":{\"backgroundcolor\":\"#E5ECF6\",\"gridcolor\":\"white\",\"linecolor\":\"white\",\"showbackground\":true,\"ticks\":\"\",\"zerolinecolor\":\"white\",\"gridwidth\":2},\"yaxis\":{\"backgroundcolor\":\"#E5ECF6\",\"gridcolor\":\"white\",\"linecolor\":\"white\",\"showbackground\":true,\"ticks\":\"\",\"zerolinecolor\":\"white\",\"gridwidth\":2},\"zaxis\":{\"backgroundcolor\":\"#E5ECF6\",\"gridcolor\":\"white\",\"linecolor\":\"white\",\"showbackground\":true,\"ticks\":\"\",\"zerolinecolor\":\"white\",\"gridwidth\":2}},\"shapedefaults\":{\"line\":{\"color\":\"#2a3f5f\"}},\"annotationdefaults\":{\"arrowcolor\":\"#2a3f5f\",\"arrowhead\":0,\"arrowwidth\":1},\"geo\":{\"bgcolor\":\"white\",\"landcolor\":\"#E5ECF6\",\"subunitcolor\":\"white\",\"showland\":true,\"showlakes\":true,\"lakecolor\":\"white\"},\"title\":{\"x\":0.05},\"mapbox\":{\"style\":\"light\"}}},\"xaxis\":{\"anchor\":\"y\",\"domain\":[0.0,0.98],\"title\":{\"text\":\"month\"}},\"yaxis\":{\"anchor\":\"x\",\"domain\":[0.0,0.3133333333333333],\"title\":{\"text\":\"value\"}},\"xaxis2\":{\"anchor\":\"y2\",\"domain\":[0.0,0.98],\"matches\":\"x\",\"showticklabels\":false},\"yaxis2\":{\"anchor\":\"x2\",\"domain\":[0.34333333333333327,0.6566666666666665],\"matches\":\"y\",\"title\":{\"text\":\"value\"}},\"xaxis3\":{\"anchor\":\"y3\",\"domain\":[0.0,0.98],\"matches\":\"x\",\"showticklabels\":false},\"yaxis3\":{\"anchor\":\"x3\",\"domain\":[0.6866666666666665,0.9999999999999998],\"matches\":\"y\",\"title\":{\"text\":\"value\"}},\"annotations\":[{\"font\":{},\"showarrow\":false,\"text\":\"variable=Wind\",\"textangle\":90,\"x\":0.98,\"xanchor\":\"left\",\"xref\":\"paper\",\"y\":0.15666666666666665,\"yanchor\":\"middle\",\"yref\":\"paper\"},{\"font\":{},\"showarrow\":false,\"text\":\"variable=Combined Cycle\",\"textangle\":90,\"x\":0.98,\"xanchor\":\"left\",\"xref\":\"paper\",\"y\":0.4999999999999999,\"yanchor\":\"middle\",\"yref\":\"paper\"},{\"font\":{},\"showarrow\":false,\"text\":\"variable=Solar Photovoltaic\",\"textangle\":90,\"x\":0.98,\"xanchor\":\"left\",\"xref\":\"paper\",\"y\":0.8433333333333332,\"yanchor\":\"middle\",\"yref\":\"paper\"}],\"legend\":{\"title\":{\"text\":\"variable\"},\"tracegroupgap\":0},\"margin\":{\"t\":60},\"barmode\":\"relative\"},                        {\"responsive\": true}                    ).then(function(){\n",
       "                            \n",
       "var gd = document.getElementById('d39d74d5-df51-4bb2-881b-57f45810aaab');\n",
       "var x = new MutationObserver(function (mutations, observer) {{\n",
       "        var display = window.getComputedStyle(gd).display;\n",
       "        if (!display || display === 'none') {{\n",
       "            console.log([gd, 'removed!']);\n",
       "            Plotly.purge(gd);\n",
       "            observer.disconnect();\n",
       "        }}\n",
       "}});\n",
       "\n",
       "// Listen for the removal of the full notebook cells\n",
       "var notebookContainer = gd.closest('#notebook-container');\n",
       "if (notebookContainer) {{\n",
       "    x.observe(notebookContainer, {childList: true});\n",
       "}}\n",
       "\n",
       "// Listen for the clearing of the current output cell\n",
       "var outputEl = gd.closest('.output');\n",
       "if (outputEl) {{\n",
       "    x.observe(outputEl, {childList: true});\n",
       "}}\n",
       "\n",
       "                        })                };                });            </script>        </div>"
      ]
     },
     "execution_count": null,
     "metadata": {},
     "output_type": "display_data"
    }
   ],
   "source": []
  },
  {
   "cell_type": "markdown",
   "metadata": {},
   "source": [
    "## Options"
   ]
  },
  {
   "cell_type": "code",
   "execution_count": null,
   "metadata": {},
   "outputs": [],
   "source": []
  },
  {
   "cell_type": "code",
   "execution_count": null,
   "metadata": {},
   "outputs": [
    {
     "data": {
      "text/plain": [
       "{'year': [2015, 2016, 2017, 2018, 2019, 2020, 2021, 2022],\n",
       " 'granularity': ['month', 'day', 'hour', 'weekday', 'weekend'],\n",
       " 'columns': ['Hydraulic',\n",
       "  'Adjustment P48',\n",
       "  'Balance Andorra',\n",
       "  'Balance Morocco',\n",
       "  'Balance France',\n",
       "  'Balance Portugal',\n",
       "  'Other Renewables',\n",
       "  'Non-Renewable Waste',\n",
       "  'Cogeneration',\n",
       "  'Wind',\n",
       "  'Fuel-Gas',\n",
       "  'Coal',\n",
       "  'Balearic Link',\n",
       "  'Pumping Consumption',\n",
       "  'Solar Thermal',\n",
       "  'Solar Photovoltaic',\n",
       "  'Combined Cycle',\n",
       "  'Pumping Turbine',\n",
       "  'Nuclear'],\n",
       " 'aggfunc': ['sum', 'mean', 'median', 'std', 'min', 'max']}"
      ]
     },
     "execution_count": null,
     "metadata": {},
     "output_type": "execute_result"
    }
   ],
   "source": []
  },
  {
   "cell_type": "code",
   "execution_count": null,
   "metadata": {},
   "outputs": [],
   "source": []
  }
 ],
 "metadata": {
  "kernelspec": {
   "display_name": "base",
   "language": "python",
   "name": "python3"
  },
  "language_info": {
   "codemirror_mode": {
    "name": "ipython",
    "version": 3
   },
   "file_extension": ".py",
   "mimetype": "text/x-python",
   "name": "python",
   "nbconvert_exporter": "python",
   "pygments_lexer": "ipython3",
   "version": "3.11.4"
  }
 },
 "nbformat": 4,
 "nbformat_minor": 2
}
